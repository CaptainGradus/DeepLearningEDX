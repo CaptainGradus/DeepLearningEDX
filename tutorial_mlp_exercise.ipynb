{
  "nbformat": 4,
  "nbformat_minor": 0,
  "metadata": {
    "colab": {
      "name": "tutorial mlp - exercise.ipynb",
      "provenance": [],
      "collapsed_sections": [],
      "toc_visible": true,
      "include_colab_link": true
    },
    "language_info": {
      "codemirror_mode": {
        "name": "ipython",
        "version": 3
      },
      "file_extension": ".py",
      "mimetype": "text/x-python",
      "name": "python",
      "nbconvert_exporter": "python",
      "pygments_lexer": "ipython3",
      "version": "3.7.0"
    },
    "kernelspec": {
      "display_name": "Python 3",
      "language": "python",
      "name": "python3"
    },
    "accelerator": "GPU"
  },
  "cells": [
    {
      "cell_type": "markdown",
      "metadata": {
        "id": "view-in-github",
        "colab_type": "text"
      },
      "source": [
        "<a href=\"https://colab.research.google.com/github/CaptainGradus/DeepLearningEDX/blob/master/tutorial_mlp_exercise.ipynb\" target=\"_parent\"><img src=\"https://colab.research.google.com/assets/colab-badge.svg\" alt=\"Open In Colab\"/></a>"
      ]
    },
    {
      "cell_type": "markdown",
      "metadata": {
        "colab_type": "text",
        "id": "mipSoOVlavkb"
      },
      "source": [
        "# IVADO/MILA DEEP LEARNING SCHOOL\n",
        "# 4th edition (Fall 2019)\n",
        "# Tutorial : Categorical data with multilayer perceptron (MLP)\n",
        "\n",
        "## Authors: \n",
        "\n",
        "Arsène Fansi Tchango <arsene.fansi.tchango@mila.quebec>\n",
        "\n",
        "Gaétan Marceau Caron <gaetan.marceau.caron@mila.quebec>"
      ]
    },
    {
      "cell_type": "markdown",
      "metadata": {
        "colab_type": "text",
        "id": "sLHwvggEZERd"
      },
      "source": [
        "## Preface"
      ]
    },
    {
      "cell_type": "markdown",
      "metadata": {
        "colab_type": "text",
        "id": "JKNGtQkkohiM"
      },
      "source": [
        "This tutorial introduces the practical aspects of Deep Learning through the realization of a simple end-to-end project. We will use the deep learning library <a href=\"https://pytorch.org/\"> `PyTorch`</a>, which is well-known for its ease of use."
      ]
    },
    {
      "cell_type": "markdown",
      "metadata": {
        "colab_type": "text",
        "id": "NOD70vdvvtin"
      },
      "source": [
        "# Introduction"
      ]
    },
    {
      "cell_type": "markdown",
      "metadata": {
        "id": "nq9FwFVnQihX",
        "colab_type": "text"
      },
      "source": [
        "## Loading packages and using GPUs"
      ]
    },
    {
      "cell_type": "markdown",
      "metadata": {
        "id": "reCpBfp1Qcrt",
        "colab_type": "text"
      },
      "source": [
        "Before we start, we install the necessary packages for the tutorial by using pip. To do this, execute the following cell by selecting it and using `shift+Enter`. This step may take a few minutes."
      ]
    },
    {
      "cell_type": "code",
      "metadata": {
        "colab_type": "code",
        "id": "c5AlBPjnvzNh",
        "outputId": "f737834c-5b3a-4f0d-969f-59cce707bd27",
        "colab": {
          "base_uri": "https://localhost:8080/",
          "height": 844
        }
      },
      "source": [
        "!pip3 install 'torch==1.1.0' 'torchvision==0.3.0' 'Pillow==4.3.0' 'matplotlib==3.0.3'"
      ],
      "execution_count": 1,
      "outputs": [
        {
          "output_type": "stream",
          "text": [
            "Collecting torch==1.1.0\n",
            "\u001b[?25l  Downloading https://files.pythonhosted.org/packages/69/60/f685fb2cfb3088736bafbc9bdbb455327bdc8906b606da9c9a81bae1c81e/torch-1.1.0-cp36-cp36m-manylinux1_x86_64.whl (676.9MB)\n",
            "\u001b[K     |████████████████████████████████| 676.9MB 29kB/s \n",
            "\u001b[?25hCollecting torchvision==0.3.0\n",
            "\u001b[?25l  Downloading https://files.pythonhosted.org/packages/2e/45/0f2f3062c92d9cf1d5d7eabd3cae88cea9affbd2b17fb1c043627838cb0a/torchvision-0.3.0-cp36-cp36m-manylinux1_x86_64.whl (2.6MB)\n",
            "\u001b[K     |████████████████████████████████| 2.6MB 36.5MB/s \n",
            "\u001b[?25hCollecting Pillow==4.3.0\n",
            "\u001b[?25l  Downloading https://files.pythonhosted.org/packages/3c/5c/44a8f05da34cbb495e5330825c2204b9fa761357c87bc0bc1785b1d76e41/Pillow-4.3.0-cp36-cp36m-manylinux1_x86_64.whl (5.8MB)\n",
            "\u001b[K     |████████████████████████████████| 5.8MB 21.9MB/s \n",
            "\u001b[?25hCollecting matplotlib==3.0.3\n",
            "\u001b[?25l  Downloading https://files.pythonhosted.org/packages/e9/69/f5e05f578585ed9935247be3788b374f90701296a70c8871bcd6d21edb00/matplotlib-3.0.3-cp36-cp36m-manylinux1_x86_64.whl (13.0MB)\n",
            "\u001b[K     |████████████████████████████████| 13.0MB 241kB/s \n",
            "\u001b[?25hRequirement already satisfied: numpy in /usr/local/lib/python3.6/dist-packages (from torch==1.1.0) (1.18.3)\n",
            "Requirement already satisfied: six in /usr/local/lib/python3.6/dist-packages (from torchvision==0.3.0) (1.12.0)\n",
            "Collecting olefile\n",
            "\u001b[?25l  Downloading https://files.pythonhosted.org/packages/34/81/e1ac43c6b45b4c5f8d9352396a14144bba52c8fec72a80f425f6a4d653ad/olefile-0.46.zip (112kB)\n",
            "\u001b[K     |████████████████████████████████| 112kB 40.0MB/s \n",
            "\u001b[?25hRequirement already satisfied: python-dateutil>=2.1 in /usr/local/lib/python3.6/dist-packages (from matplotlib==3.0.3) (2.8.1)\n",
            "Requirement already satisfied: kiwisolver>=1.0.1 in /usr/local/lib/python3.6/dist-packages (from matplotlib==3.0.3) (1.2.0)\n",
            "Requirement already satisfied: cycler>=0.10 in /usr/local/lib/python3.6/dist-packages (from matplotlib==3.0.3) (0.10.0)\n",
            "Requirement already satisfied: pyparsing!=2.0.4,!=2.1.2,!=2.1.6,>=2.0.1 in /usr/local/lib/python3.6/dist-packages (from matplotlib==3.0.3) (2.4.7)\n",
            "Building wheels for collected packages: olefile\n",
            "  Building wheel for olefile (setup.py) ... \u001b[?25l\u001b[?25hdone\n",
            "  Created wheel for olefile: filename=olefile-0.46-py2.py3-none-any.whl size=35417 sha256=d822811978959f8cfdf5d3487704a963800f4d71c32587c8e9acd9c9a88ebc60\n",
            "  Stored in directory: /root/.cache/pip/wheels/4b/f4/11/bc4166107c27f07fd7bba707ffcb439619197638a1ac986df3\n",
            "Successfully built olefile\n",
            "\u001b[31mERROR: plotnine 0.6.0 has requirement matplotlib>=3.1.1, but you'll have matplotlib 3.0.3 which is incompatible.\u001b[0m\n",
            "\u001b[31mERROR: mizani 0.6.0 has requirement matplotlib>=3.1.1, but you'll have matplotlib 3.0.3 which is incompatible.\u001b[0m\n",
            "\u001b[31mERROR: albumentations 0.1.12 has requirement imgaug<0.2.7,>=0.2.5, but you'll have imgaug 0.2.9 which is incompatible.\u001b[0m\n",
            "Installing collected packages: torch, olefile, Pillow, torchvision, matplotlib\n",
            "  Found existing installation: torch 1.5.0+cu101\n",
            "    Uninstalling torch-1.5.0+cu101:\n",
            "      Successfully uninstalled torch-1.5.0+cu101\n",
            "  Found existing installation: Pillow 7.0.0\n",
            "    Uninstalling Pillow-7.0.0:\n",
            "      Successfully uninstalled Pillow-7.0.0\n",
            "  Found existing installation: torchvision 0.6.0+cu101\n",
            "    Uninstalling torchvision-0.6.0+cu101:\n",
            "      Successfully uninstalled torchvision-0.6.0+cu101\n",
            "  Found existing installation: matplotlib 3.2.1\n",
            "    Uninstalling matplotlib-3.2.1:\n",
            "      Successfully uninstalled matplotlib-3.2.1\n",
            "Successfully installed Pillow-4.3.0 matplotlib-3.0.3 olefile-0.46 torch-1.1.0 torchvision-0.3.0\n"
          ],
          "name": "stdout"
        },
        {
          "output_type": "display_data",
          "data": {
            "application/vnd.colab-display-data+json": {
              "pip_warning": {
                "packages": [
                  "PIL",
                  "matplotlib",
                  "mpl_toolkits"
                ]
              }
            }
          },
          "metadata": {
            "tags": []
          }
        }
      ]
    },
    {
      "cell_type": "markdown",
      "metadata": {
        "colab_type": "text",
        "id": "djF9gjzLwsDB"
      },
      "source": [
        "Now, import all the modules we will use for this tutorial by running the next cell:"
      ]
    },
    {
      "cell_type": "code",
      "metadata": {
        "colab_type": "code",
        "id": "w9LnNnxBw0wC",
        "outputId": "0d8eba03-6878-4b78-9fd4-9229bbbbc9cb",
        "colab": {
          "base_uri": "https://localhost:8080/",
          "height": 50
        }
      },
      "source": [
        "import torch\n",
        "import pandas as pd\n",
        "import numpy as np\n",
        "import matplotlib.pyplot as plt\n",
        "%matplotlib inline\n",
        "\n",
        "seed = 1234\n",
        "np.random.seed(seed) # Set the random seed of numpy for the data split.\n",
        "\n",
        "use_gpu = torch.cuda.is_available()\n",
        "device = torch.device(\"cuda:0\" if use_gpu else \"cpu\")\n",
        "\n",
        "\n",
        "print(\"Torch version: \", torch.__version__)\n",
        "print(\"GPU Available: {}\".format(use_gpu))"
      ],
      "execution_count": 2,
      "outputs": [
        {
          "output_type": "stream",
          "text": [
            "Torch version:  1.1.0\n",
            "GPU Available: True\n"
          ],
          "name": "stdout"
        }
      ]
    },
    {
      "cell_type": "markdown",
      "metadata": {
        "colab_type": "text",
        "id": "ZKzgFV9Favkt"
      },
      "source": [
        "## PyTorch in a nutshell"
      ]
    },
    {
      "cell_type": "markdown",
      "metadata": {
        "colab_type": "text",
        "id": "Vrus_-F0avkt"
      },
      "source": [
        "*PyTorch* is a Python library that supports a vibrant ecosystem of tools and libraries for ML in vision, NLP, and more. It provides two high-level features:\n",
        "<ul>\n",
        "<li> operations on <a href=\"https://pytorch.org/tutorials/beginner/blitz/tensor_tutorial.html#sphx-glr-beginner-blitz-tensor-tutorial-py\">tensors</a> (such as NumPy) with GPU support,</li>\n",
        "<li> operations for creating and optimizing computational graphs with an automatic differentiation system called <a href=\"https://pytorch.org/tutorials/beginner/blitz/autograd_tutorial.html#sphx-glr-beginner-blitz-autograd-tutorial-py\">Autograd</a>.</li>\n",
        "</ul>\n",
        "\n",
        "<a href=\"https://pytorch.org/docs/stable/torch.html\">PyTorch docs</a> contain the API documentation and <a href=\"https://pytorch.org/tutorials/\">many tutorials</a>.\n",
        "Also, PyTorch offers several data processing utilities. One of these utilities is the class <a href=\"http://pytorch.org/docs/master/data.html#\"> `torch.utils.data.Dataset`</a> which offers an easy to use interface to handle a data set. For more information, please refer to the following urls: \n",
        "<ul>\n",
        "<li>PyTorch data sets: <a href=\"http://pytorch.org/docs/master/data.html\"> PyTorch - datasets</a>.</li>\n",
        "<li>A tutorial for loading data: <a href=\"http://pytorch.org/tutorials/beginner/data_loading_tutorial.html\"> PyTorch - data loading tutorial</a>.</li>\n",
        "</ul>\n",
        "\n",
        "<a href=\"http://pytorch.org/docs/master/cuda.html#module-torch.cuda\">`torch.cuda`</a> is a package that provides the same functions as CPU tensors but for  CUDA tensors, which are used for GPU computing. <a href=\"http://pytorch.org/docs/master/cuda.html#torch.cuda.is_available\">`torch.cuda.is_available()`</a> returns a boolean indicating if CUDA is currently available. Finally, we recommend using a `device` variable that identifies the device on which you want to perform computations. We can assign a tensor to a device with the method `.to(device)`. By default, the tensors are CPU tensors."
      ]
    },
    {
      "cell_type": "markdown",
      "metadata": {
        "colab_type": "text",
        "id": "Qm122vNmq92L"
      },
      "source": [
        "## Ingredients for a proof of concept (POC)"
      ]
    },
    {
      "cell_type": "markdown",
      "metadata": {
        "colab_type": "text",
        "id": "nqvhR0ebavmE"
      },
      "source": [
        "To realize a ML POC, you need:\n",
        "<ul>\n",
        "<li>a task description as well as data to support it,</li>\n",
        "<li>an evaluation metric to assess the performance of a model,</li>\n",
        "<li>a model description,</li>\n",
        "<li>a cost function to be optimized,</li>\n",
        "<li>an optimizer that adjusts the parameters of the model.</li>\n",
        "</ul>"
      ]
    },
    {
      "cell_type": "markdown",
      "metadata": {
        "colab_type": "text",
        "id": "Y8_pfpu2f6AO"
      },
      "source": [
        "# How to prepare the dataset?"
      ]
    },
    {
      "cell_type": "markdown",
      "metadata": {
        "colab_type": "text",
        "id": "B5piZxYUhSzq"
      },
      "source": [
        "Our task is to predict whether or not a passenger survived the sinking of the Titanic based on passenger data only."
      ]
    },
    {
      "cell_type": "markdown",
      "metadata": {
        "colab_type": "text",
        "id": "y4GuYNDFavlU"
      },
      "source": [
        "## Titanic dataset"
      ]
    },
    {
      "cell_type": "markdown",
      "metadata": {
        "colab_type": "text",
        "id": "NiOJx2ytavlU"
      },
      "source": [
        "We can download the Titanic dataset at the following address: https://github.com/afansi/winterschool18/blob/master/titanic3.csv?raw=true.<br/>\n",
        "This dataset provides information on the fate of 1309 passengers of the first and only journey of the liner \"RMS Titanic\", summarized by economic status (class), gender, age, family information, and survival. The Kaggle platform also uses this dataset as an introduction to classical machine learning. Here, we use it to introduce more advanced concepts related to PyTorch and Deep Learning.\n",
        "\n",
        "We use the library <a href=\"https://pandas.pydata.org/\">Pandas</a> to load the dataset into memory."
      ]
    },
    {
      "cell_type": "code",
      "metadata": {
        "colab_type": "code",
        "id": "bX_RSiffavlW",
        "outputId": "d50289f1-3462-4f53-a3d2-ab44cacbd912",
        "colab": {
          "base_uri": "https://localhost:8080/",
          "height": 330
        }
      },
      "source": [
        "titanic_df = pd.read_csv(\n",
        "    'https://github.com/afansi/winterschool18/blob/master/titanic3.csv?raw=true', \n",
        "    sep='\\t', \n",
        "    index_col=None, \n",
        "    na_values=['NA']\n",
        ")\n",
        "\n",
        "# a snapshot of the first 5 data points\n",
        "titanic_df.head()\n",
        "\n"
      ],
      "execution_count": 3,
      "outputs": [
        {
          "output_type": "execute_result",
          "data": {
            "text/html": [
              "<div>\n",
              "<style scoped>\n",
              "    .dataframe tbody tr th:only-of-type {\n",
              "        vertical-align: middle;\n",
              "    }\n",
              "\n",
              "    .dataframe tbody tr th {\n",
              "        vertical-align: top;\n",
              "    }\n",
              "\n",
              "    .dataframe thead th {\n",
              "        text-align: right;\n",
              "    }\n",
              "</style>\n",
              "<table border=\"1\" class=\"dataframe\">\n",
              "  <thead>\n",
              "    <tr style=\"text-align: right;\">\n",
              "      <th></th>\n",
              "      <th>pclass</th>\n",
              "      <th>survived</th>\n",
              "      <th>name</th>\n",
              "      <th>sex</th>\n",
              "      <th>age</th>\n",
              "      <th>sibsp</th>\n",
              "      <th>parch</th>\n",
              "      <th>ticket</th>\n",
              "      <th>fare</th>\n",
              "      <th>cabin</th>\n",
              "      <th>embarked</th>\n",
              "      <th>boat</th>\n",
              "      <th>body</th>\n",
              "      <th>home.dest</th>\n",
              "    </tr>\n",
              "  </thead>\n",
              "  <tbody>\n",
              "    <tr>\n",
              "      <th>0</th>\n",
              "      <td>1</td>\n",
              "      <td>1</td>\n",
              "      <td>Allen, Miss. Elisabeth Walton</td>\n",
              "      <td>female</td>\n",
              "      <td>29.0000</td>\n",
              "      <td>0</td>\n",
              "      <td>0</td>\n",
              "      <td>24160</td>\n",
              "      <td>211.3375</td>\n",
              "      <td>B5</td>\n",
              "      <td>S</td>\n",
              "      <td>2</td>\n",
              "      <td>NaN</td>\n",
              "      <td>St Louis, MO</td>\n",
              "    </tr>\n",
              "    <tr>\n",
              "      <th>1</th>\n",
              "      <td>1</td>\n",
              "      <td>1</td>\n",
              "      <td>Allison, Master. Hudson Trevor</td>\n",
              "      <td>male</td>\n",
              "      <td>0.9167</td>\n",
              "      <td>1</td>\n",
              "      <td>2</td>\n",
              "      <td>113781</td>\n",
              "      <td>151.5500</td>\n",
              "      <td>C22 C26</td>\n",
              "      <td>S</td>\n",
              "      <td>11</td>\n",
              "      <td>NaN</td>\n",
              "      <td>Montreal, PQ / Chesterville, ON</td>\n",
              "    </tr>\n",
              "    <tr>\n",
              "      <th>2</th>\n",
              "      <td>1</td>\n",
              "      <td>0</td>\n",
              "      <td>Allison, Miss. Helen Loraine</td>\n",
              "      <td>female</td>\n",
              "      <td>2.0000</td>\n",
              "      <td>1</td>\n",
              "      <td>2</td>\n",
              "      <td>113781</td>\n",
              "      <td>151.5500</td>\n",
              "      <td>C22 C26</td>\n",
              "      <td>S</td>\n",
              "      <td>NaN</td>\n",
              "      <td>NaN</td>\n",
              "      <td>Montreal, PQ / Chesterville, ON</td>\n",
              "    </tr>\n",
              "    <tr>\n",
              "      <th>3</th>\n",
              "      <td>1</td>\n",
              "      <td>0</td>\n",
              "      <td>Allison, Mr. Hudson Joshua Creighton</td>\n",
              "      <td>male</td>\n",
              "      <td>30.0000</td>\n",
              "      <td>1</td>\n",
              "      <td>2</td>\n",
              "      <td>113781</td>\n",
              "      <td>151.5500</td>\n",
              "      <td>C22 C26</td>\n",
              "      <td>S</td>\n",
              "      <td>NaN</td>\n",
              "      <td>135.0</td>\n",
              "      <td>Montreal, PQ / Chesterville, ON</td>\n",
              "    </tr>\n",
              "    <tr>\n",
              "      <th>4</th>\n",
              "      <td>1</td>\n",
              "      <td>0</td>\n",
              "      <td>Allison, Mrs. Hudson J C (Bessie Waldo Daniels)</td>\n",
              "      <td>female</td>\n",
              "      <td>25.0000</td>\n",
              "      <td>1</td>\n",
              "      <td>2</td>\n",
              "      <td>113781</td>\n",
              "      <td>151.5500</td>\n",
              "      <td>C22 C26</td>\n",
              "      <td>S</td>\n",
              "      <td>NaN</td>\n",
              "      <td>NaN</td>\n",
              "      <td>Montreal, PQ / Chesterville, ON</td>\n",
              "    </tr>\n",
              "  </tbody>\n",
              "</table>\n",
              "</div>"
            ],
            "text/plain": [
              "   pclass  survived  ...   body                        home.dest\n",
              "0       1         1  ...    NaN                     St Louis, MO\n",
              "1       1         1  ...    NaN  Montreal, PQ / Chesterville, ON\n",
              "2       1         0  ...    NaN  Montreal, PQ / Chesterville, ON\n",
              "3       1         0  ...  135.0  Montreal, PQ / Chesterville, ON\n",
              "4       1         0  ...    NaN  Montreal, PQ / Chesterville, ON\n",
              "\n",
              "[5 rows x 14 columns]"
            ]
          },
          "metadata": {
            "tags": []
          },
          "execution_count": 3
        }
      ]
    },
    {
      "cell_type": "markdown",
      "metadata": {
        "colab_type": "text",
        "id": "yj88WmCmavlf"
      },
      "source": [
        "**The meaning of the different columns (features) is as follows**:\n",
        "\n",
        "<ol>\n",
        "\n",
        "  <li> <b>pclass</b>: Passenger class (1 = first; 2 = second; 3 = third) </li>\n",
        "  <li> <b>survived</b>: Survived? (0 = no; 1 = yes) </li>\n",
        "  <li> <b>name</b>: Name </li>\n",
        "  <li> <b>sex</b>: Sex </li>\n",
        "  <li> <b>age</b>: Age </li>\n",
        "  <li> <b>sibsp</b>: Number of brothers, sisters, or spouses onboard </li>\n",
        "  <li> <b>parch</b>: Number of parents or children onboard </li>\n",
        "  <li> <b>ticket</b>: Ticket number </li>\n",
        "  <li> <b>fare</b>: Passenger fare </li>\n",
        "  <li> <b>cabin</b>: Cabin number </li>\n",
        "  <li> <b>embarked</b>: Port of embarkation (C = Cherbourg; Q = Queenstown; S = Southampton) </li>\n",
        "  <li> <b>boat</b>: Lifeboat (if the passenger survived) </li>\n",
        "  <li> <b>body</b>: Body number (if the passenger did not survive and his body was found) </li>\n",
        "  <li> <b>home.dest</b>: the passenger's destination </li>\n",
        " </ol>\n"
      ]
    },
    {
      "cell_type": "markdown",
      "metadata": {
        "colab_type": "text",
        "id": "u2ed5fozqjce"
      },
      "source": [
        "## Data pre-processing"
      ]
    },
    {
      "cell_type": "markdown",
      "metadata": {
        "colab_type": "text",
        "id": "__vcZhPnavlg"
      },
      "source": [
        "### Feature selection\n",
        "Some features are not relevant to the task, for example:\n",
        "<ol>\n",
        "  <li> <b>name</b>: Name </li>\n",
        "  <li> <b>ticket</b>: Ticket number </li>\n",
        "  <li> <b>cabin</b>: Cabin number </li>\n",
        "  <li> <b>home.dest</b>: Passenger's destination </li>\n",
        " </ol>\n",
        " \n",
        "Other features give away the label to be predicted and including them would be cheating:\n",
        "<ol>\n",
        "  <li> <b>boat</b>: Lifeboat (if the passenger survived) </li>\n",
        "  <li> <b>body</b>: Body number (if the passenger did not survive and his body was found) </li>\n",
        " </ol>"
      ]
    },
    {
      "cell_type": "code",
      "metadata": {
        "colab_type": "code",
        "id": "JJ0--SDpavlg",
        "outputId": "75d2b509-d3d8-46b5-ad88-0d1ca86d6f1c",
        "colab": {
          "base_uri": "https://localhost:8080/",
          "height": 195
        }
      },
      "source": [
        "titanic_preprocess_df = pd.read_csv(\n",
        "    'https://github.com/afansi/winterschool18/blob/master/titanic_prepocess.csv?raw=true', \n",
        "    sep=',', \n",
        "    index_col=None\n",
        ")\n",
        "\n",
        "titanic_preprocess_df.head()"
      ],
      "execution_count": 4,
      "outputs": [
        {
          "output_type": "execute_result",
          "data": {
            "text/html": [
              "<div>\n",
              "<style scoped>\n",
              "    .dataframe tbody tr th:only-of-type {\n",
              "        vertical-align: middle;\n",
              "    }\n",
              "\n",
              "    .dataframe tbody tr th {\n",
              "        vertical-align: top;\n",
              "    }\n",
              "\n",
              "    .dataframe thead th {\n",
              "        text-align: right;\n",
              "    }\n",
              "</style>\n",
              "<table border=\"1\" class=\"dataframe\">\n",
              "  <thead>\n",
              "    <tr style=\"text-align: right;\">\n",
              "      <th></th>\n",
              "      <th>survived</th>\n",
              "      <th>pclass_1</th>\n",
              "      <th>pclass_2</th>\n",
              "      <th>pclass_3</th>\n",
              "      <th>sex_female</th>\n",
              "      <th>sex_male</th>\n",
              "      <th>age</th>\n",
              "      <th>sibsp</th>\n",
              "      <th>parch</th>\n",
              "      <th>fare</th>\n",
              "      <th>embarked_C</th>\n",
              "      <th>embarked_Q</th>\n",
              "      <th>embarked_S</th>\n",
              "    </tr>\n",
              "  </thead>\n",
              "  <tbody>\n",
              "    <tr>\n",
              "      <th>0</th>\n",
              "      <td>1</td>\n",
              "      <td>1</td>\n",
              "      <td>0</td>\n",
              "      <td>0</td>\n",
              "      <td>1</td>\n",
              "      <td>0</td>\n",
              "      <td>29.0000</td>\n",
              "      <td>0</td>\n",
              "      <td>0</td>\n",
              "      <td>211.3375</td>\n",
              "      <td>0</td>\n",
              "      <td>0</td>\n",
              "      <td>1</td>\n",
              "    </tr>\n",
              "    <tr>\n",
              "      <th>1</th>\n",
              "      <td>1</td>\n",
              "      <td>1</td>\n",
              "      <td>0</td>\n",
              "      <td>0</td>\n",
              "      <td>0</td>\n",
              "      <td>1</td>\n",
              "      <td>0.9167</td>\n",
              "      <td>1</td>\n",
              "      <td>2</td>\n",
              "      <td>151.5500</td>\n",
              "      <td>0</td>\n",
              "      <td>0</td>\n",
              "      <td>1</td>\n",
              "    </tr>\n",
              "    <tr>\n",
              "      <th>2</th>\n",
              "      <td>0</td>\n",
              "      <td>1</td>\n",
              "      <td>0</td>\n",
              "      <td>0</td>\n",
              "      <td>1</td>\n",
              "      <td>0</td>\n",
              "      <td>2.0000</td>\n",
              "      <td>1</td>\n",
              "      <td>2</td>\n",
              "      <td>151.5500</td>\n",
              "      <td>0</td>\n",
              "      <td>0</td>\n",
              "      <td>1</td>\n",
              "    </tr>\n",
              "    <tr>\n",
              "      <th>3</th>\n",
              "      <td>0</td>\n",
              "      <td>1</td>\n",
              "      <td>0</td>\n",
              "      <td>0</td>\n",
              "      <td>0</td>\n",
              "      <td>1</td>\n",
              "      <td>30.0000</td>\n",
              "      <td>1</td>\n",
              "      <td>2</td>\n",
              "      <td>151.5500</td>\n",
              "      <td>0</td>\n",
              "      <td>0</td>\n",
              "      <td>1</td>\n",
              "    </tr>\n",
              "    <tr>\n",
              "      <th>4</th>\n",
              "      <td>0</td>\n",
              "      <td>1</td>\n",
              "      <td>0</td>\n",
              "      <td>0</td>\n",
              "      <td>1</td>\n",
              "      <td>0</td>\n",
              "      <td>25.0000</td>\n",
              "      <td>1</td>\n",
              "      <td>2</td>\n",
              "      <td>151.5500</td>\n",
              "      <td>0</td>\n",
              "      <td>0</td>\n",
              "      <td>1</td>\n",
              "    </tr>\n",
              "  </tbody>\n",
              "</table>\n",
              "</div>"
            ],
            "text/plain": [
              "   survived  pclass_1  pclass_2  ...  embarked_C  embarked_Q  embarked_S\n",
              "0         1         1         0  ...           0           0           1\n",
              "1         1         1         0  ...           0           0           1\n",
              "2         0         1         0  ...           0           0           1\n",
              "3         0         1         0  ...           0           0           1\n",
              "4         0         1         0  ...           0           0           1\n",
              "\n",
              "[5 rows x 13 columns]"
            ]
          },
          "metadata": {
            "tags": []
          },
          "execution_count": 4
        }
      ]
    },
    {
      "cell_type": "markdown",
      "metadata": {
        "id": "4MckYm0M_xhR",
        "colab_type": "text"
      },
      "source": [
        " ### Feature encoding\n",
        " \n",
        "Some features are **categorical variables**, which means that they can take a finite number of values.\n",
        " <ol>\n",
        "  <li> <b>pclass</b>: Passenger Class </li>\n",
        "  <li> <b>sex</b>: Sex </li>\n",
        "  <li> <b>embarked</b>: Port of embarkation </li>\n",
        " </ol>\n",
        "\n",
        "To process categorical variables, we need to encode them in a way that does not imply an arbitrary order such as using natural numbers (e.g., 1, 2, 3). <a href=\"http://scikit-learn.org/stable/modules/generated/sklearn.preprocessing.OneHotEncoder.html\">One-hot encoding</a> is a way to achieve it. We can download the pre-processed dataset at the following address: https://github.com/afansi/winterschool18/blob/master/titanic_prepocess.csv?raw=true.\n",
        "<br>The meaning of the encoded variables is as follows:\n",
        "\n",
        "<ol>\n",
        "  <li> <b>survived</b>: Survived? (0 = no; 1 = yes) </li>\n",
        "  <li> <b>pclass_1</b>: (1 if passenger in first class; 0 if not) </li>\n",
        "  <li> <b>pclass_2</b>: (1 if passenger in second class; 0 if not) </li>\n",
        "  <li> <b>pclass_3</b>: (1 if passenger in third class; 0 if not) </li>\n",
        "  <li> <b>sex_female</b>: (1 if passenger is female; 0 if not) </li>\n",
        "  <li> <b>sex_male</b>: (1 if passenger is male; 0 if not) </li>\n",
        "  <li> <b>age</b>: Age </li>\n",
        "  <li> <b>sibsp</b>: Number of brothers, sisters, or spouses onboard </li>\n",
        "  <li> <b>parch</b>: Number of parents or children onboard </li>\n",
        "  <li> <b>fare</b>: Passenger fare </li>\n",
        "  <li> <b>embarked_C</b>: (1 if Port of embarkation = Cherbourg (C); 0 otherwise) </li> \n",
        "  <li> <b>embarked_Q</b>: (1 if Port of embarkation = Queenstown (Q); 0 otherwise) </li> \n",
        "  <li> <b>embarked_S</b>: (1 if Port of embarkation = Southampton (S); 0 otherwise)</li> \n",
        " </ol>"
      ]
    },
    {
      "cell_type": "markdown",
      "metadata": {
        "colab_type": "text",
        "id": "QJcs6PUTavlm"
      },
      "source": [
        "## Train / validation / test split"
      ]
    },
    {
      "cell_type": "markdown",
      "metadata": {
        "colab_type": "text",
        "id": "Bjbgvffmavlo"
      },
      "source": [
        "At this point, we need to divide the dataset into three subsets:\n",
        "\n",
        "<ol>\n",
        "<li> <b> Train</b> (usually 60% of the dataset): used to train the classification model. </li>   \n",
        "<li> <b> Validation</b> (generally 20% of the dataset): used to evaluate hyper-parameters on held-out data. </li>   \n",
        "<li> <b> Test</b> (usually 20% of the dataset): used to evaluate the generalization performance of the chosen model on held-out data. </li>\n",
        "</ol>\n",
        "\n",
        "We use the <a href=\"https://docs.scipy.org/doc/numpy-1.15.1/reference/generated/numpy.split.html\">numpy.split function</a> to separate our dataset into subsets."
      ]
    },
    {
      "cell_type": "code",
      "metadata": {
        "colab_type": "code",
        "id": "GBmL8VBOavlo",
        "colab": {}
      },
      "source": [
        "train, validate, test = np.split(\n",
        "    titanic_preprocess_df.sample(frac=1, random_state=seed), \n",
        "    [int(0.6*len(titanic_preprocess_df)), int(0.8*len(titanic_preprocess_df))])\n",
        "\n",
        "# Remove the label column from X and create a label vectors.\n",
        "X_train = train.drop(['survived'], axis=1).values\n",
        "y_train = train['survived'].values\n",
        "\n",
        "X_val = validate.drop(['survived'], axis=1).values\n",
        "y_val = validate['survived'].values\n",
        "\n",
        "X_test = test.drop(['survived'], axis=1).values\n",
        "y_test = test['survived'].values"
      ],
      "execution_count": 0,
      "outputs": []
    },
    {
      "cell_type": "markdown",
      "metadata": {
        "colab_type": "text",
        "id": "wv74TbIWavlr"
      },
      "source": [
        "## Datasets in PyTorch"
      ]
    },
    {
      "cell_type": "markdown",
      "metadata": {
        "colab_type": "text",
        "id": "9_LJtG-Xavlt"
      },
      "source": [
        "We will use the subclass <b><a href=\"http://pytorch.org/docs/master/data.html#\"> `torch.utils.data.TensorDataset`</a> </b> to manipulate together the features and targets of a dataset."
      ]
    },
    {
      "cell_type": "code",
      "metadata": {
        "colab_type": "code",
        "id": "1JtT4tV7avlt",
        "colab": {}
      },
      "source": [
        "from torch.utils.data import TensorDataset\n",
        "\n",
        "train_dataset = TensorDataset(torch.from_numpy(X_train).float(), torch.from_numpy(y_train).long())\n",
        "\n",
        "val_dataset = TensorDataset(torch.from_numpy(X_val).float(), torch.from_numpy(y_val).long())\n",
        "\n",
        "test_dataset = TensorDataset(torch.from_numpy(X_test).float(), torch.from_numpy(y_test).long())\n"
      ],
      "execution_count": 0,
      "outputs": []
    },
    {
      "cell_type": "markdown",
      "metadata": {
        "colab_type": "text",
        "id": "obEPHnlTavkc"
      },
      "source": [
        "# How to define the learning algorithm?"
      ]
    },
    {
      "cell_type": "markdown",
      "metadata": {
        "colab_type": "text",
        "id": "qhN5GL6Gavks"
      },
      "source": [
        "A multilayer perceptron (MLP) is a simple computational graph composed of \"hidden layers,\" which are defined by two modules: a *linear transformation* followed by a *non-linearity*. The result of a hidden layer is a vector called *a distributed representation* where each component is associated with a hidden unit.\n",
        "\n",
        "To train this model, we need to define:\n",
        "<ul>\n",
        "<li>the network architecture by choosing the non-linear function and the number of hidden units per layer, </li>\n",
        "<li>the cost function and optimizer. </li>\n",
        "</ul>\n",
        "\n",
        "To solve our task, we will use a MLP with the following properties:\n",
        " <ul>\n",
        " <li> the input dimension of the model is 12,</li>\n",
        " <li> the output dimension of the model is 2,</li>\n",
        " <li> the first dimension of the output is the probability of death and the second dimension is the probability of survival,</li>\n",
        "  <li> the number of hidden layers is 3, </li>\n",
        " <li> the dimensions of the hidden layers are 20, 40, 20 respectively, </li>\n",
        " <li> the activation function is a ReLu for all hidden layers. </li>\n",
        " </ul>"
      ]
    },
    {
      "cell_type": "markdown",
      "metadata": {
        "colab_type": "text",
        "id": "701t0e-ravkr"
      },
      "source": [
        "## How to define a model in PyTorch?"
      ]
    },
    {
      "cell_type": "markdown",
      "metadata": {
        "colab_type": "text",
        "id": "m4F5cyijavkv"
      },
      "source": [
        "The <a href=\"https://pytorch.org/docs/stable/nn.html\">PyTorch NN package</a> contains many useful classes for creating computation graphs.\n",
        "<ul>\n",
        "<li> The class <a href=\"http://pytorch.org/docs/master/nn.html#module\">torch.nn.Module</a>: \n",
        "any new module must inherit from this class or its descendants (subclasses).\n",
        "</li>   \n",
        "<li> The `forward` method:  any class defining a module must implement the `forward(...)` method, which defines the transformation of inputs to outputs.</li>  \n",
        "<li> The class <a href=\"http://pytorch.org/docs/master/nn.html#torch.nn.Linear\">`torch.nn.Linear(in_features, out_features)`</a>: this class implements a linear transformation. By default, it takes two parameters: \n",
        "    <ul>\n",
        "    <li>`in_features`: the size of the data at the input of the module. </li>\n",
        "    <li>`out_features`: the size of the data at the output of the module. </li>\n",
        "    </ul>\n",
        "</li>\n",
        "<li> The module <a href=\"http://pytorch.org/docs/master/nn.html#torch-nn-functional\">`torch.nn.functional`</a>: \n",
        "it defines a set of functions that can be applied directly to any tensor. As examples, we have:\n",
        "    <ul>\n",
        "    <li> non-linear functions: sigmoid(...), tanh(...), relu(...), etc...</li> \n",
        "    <li> cost functions: mse_loss(...), nll(...., cross_entropy(...), etc ... </li> \n",
        "    <li> regularization functions: droupout(...), etc ... </li> \n",
        "    <li> ...</li> \n",
        "    </ul>\n",
        "</li>\n",
        "</ul>"
      ]
    },
    {
      "cell_type": "markdown",
      "metadata": {
        "id": "Tscha6S-KIBB",
        "colab_type": "text"
      },
      "source": [
        "You need to complete the following methods:\n",
        "<ul>\n",
        "<li>The `__init__` method that defines the layers. </li>\n",
        "<li>The `forward(input)` method that returns the `output`. </li>\n",
        "</ul>"
      ]
    },
    {
      "cell_type": "code",
      "metadata": {
        "colab_type": "code",
        "id": "8NyQGwC-avkw",
        "colab": {}
      },
      "source": [
        "import torch\n",
        "import torch.nn as nn\n",
        "import torch.nn.functional as F\n",
        "seed = 1234\n",
        "torch.manual_seed(seed)\n",
        "torch.cuda.manual_seed(seed)"
      ],
      "execution_count": 0,
      "outputs": []
    },
    {
      "cell_type": "code",
      "metadata": {
        "colab_type": "code",
        "id": "xR5eBfIbavk0",
        "colab": {}
      },
      "source": [
        "class NeuralNet(nn.Module):\n",
        "    def __init__(self):\n",
        "        super(NeuralNet, self).__init__()\n",
        "        self.fc1 = nn.Linear(12, 20)\n",
        "        self.fc2 = nn.Linear(20, 40)\n",
        "        self.fc3 = nn.Linear(40, 20)\n",
        "        self.fc4 = nn.Linear(20, 2)\n",
        "\n",
        "    def forward(self, x):\n",
        "        x = F.relu(self.fc1(x))\n",
        "        x = F.relu(self.fc2(x))\n",
        "        x = F.relu(self.fc3(x))\n",
        "        out = self.fc4(x)\n",
        "\n",
        "        return out"
      ],
      "execution_count": 0,
      "outputs": []
    },
    {
      "cell_type": "markdown",
      "metadata": {
        "colab_type": "text",
        "id": "OvLnHRZ5avk2"
      },
      "source": [
        "## Making predictions with a neural network"
      ]
    },
    {
      "cell_type": "markdown",
      "metadata": {
        "colab_type": "text",
        "id": "uEXgJMDDavk3"
      },
      "source": [
        "Now, we are ready to test our neural network on randomly selected data.\n",
        "\n",
        "In PyTorch, a model has two different modes:\n",
        "    <ul>\n",
        "    <li> <b>train</b>: used during training, </li>\n",
        "    <li> <b>eval</b>: used during inference for model evaluation. </li>\n",
        "    </ul>\n",
        "The distinction is important since some modules behave differently according to this mode.\n",
        "We will use the <b>eval</b> mode in this section."
      ]
    },
    {
      "cell_type": "code",
      "metadata": {
        "colab_type": "code",
        "id": "gzcABMezavk6",
        "outputId": "3adc9d06-2cd3-47a7-f9b4-5fc654521590",
        "colab": {
          "base_uri": "https://localhost:8080/",
          "height": 101
        }
      },
      "source": [
        "# Model definition\n",
        "neural_net = NeuralNet()\n",
        "neural_net = neural_net.to(device)\n",
        "\n",
        "# Eval mode activation\n",
        "neural_net = neural_net.eval()\n",
        "\n",
        "# Select the first 5 data points\n",
        "data, target = val_dataset[0:5]\n",
        "data = data.to(device)\n",
        "target = target.to(device)\n",
        "\n",
        "# Forward propagation of the data through the model\n",
        "output = neural_net(data)   # equivalent to neural_net.forward(data)\n",
        "\n",
        "# Convert the logits into probabilities with softmax function\n",
        "output_proba = F.softmax(output, dim = 1)\n",
        "\n",
        "# Printing the probability\n",
        "print(output_proba)"
      ],
      "execution_count": 9,
      "outputs": [
        {
          "output_type": "stream",
          "text": [
            "tensor([[0.5093, 0.4907],\n",
            "        [0.5069, 0.4931],\n",
            "        [0.5129, 0.4871],\n",
            "        [0.5022, 0.4978],\n",
            "        [0.4427, 0.5573]], device='cuda:0', grad_fn=<SoftmaxBackward>)\n"
          ],
          "name": "stdout"
        }
      ]
    },
    {
      "cell_type": "markdown",
      "metadata": {
        "colab_type": "text",
        "id": "fVep0BElavlS"
      },
      "source": [
        "The rows define the output of the network, in terms of probabilities over two classes: <b>deceased</b> (first column) or <b>survived</b> (second column), for each of the five input data points. Let us take the label with maximum probability as the predicted label and compare it to the correct label."
      ]
    },
    {
      "cell_type": "code",
      "metadata": {
        "colab_type": "code",
        "id": "_jV4No36qjdU",
        "outputId": "eb1670bf-0822-4806-f7a0-bf2d8fe3146a",
        "colab": {
          "base_uri": "https://localhost:8080/",
          "height": 84
        }
      },
      "source": [
        "# Printing predictions (class with the highest probability)\n",
        "_, prediction = torch.max(output_proba, dim=1)\n",
        "\n",
        "print('Model prediction')\n",
        "print(prediction)\n",
        "\n",
        "# Printing the real labels\n",
        "print(\"Actual data\")\n",
        "print(target)"
      ],
      "execution_count": 10,
      "outputs": [
        {
          "output_type": "stream",
          "text": [
            "Model prediction\n",
            "tensor([0, 0, 0, 0, 1], device='cuda:0')\n",
            "Actual data\n",
            "tensor([0, 0, 0, 0, 0], device='cuda:0')\n"
          ],
          "name": "stdout"
        }
      ]
    },
    {
      "cell_type": "markdown",
      "metadata": {
        "colab_type": "text",
        "id": "SEIIjqOuqjdc"
      },
      "source": [
        "**Questions**\n",
        "\n",
        "1.   What would be a good way to measure the model performances?\n",
        "2.   How does our model perform?\n",
        "3.   Considering that the model is not trained on the dataset, do you see any problem with your selected measure?\n",
        "\n"
      ]
    },
    {
      "cell_type": "markdown",
      "metadata": {
        "id": "iTTlBikYwb-w",
        "colab_type": "text"
      },
      "source": [
        "1. One of the simplest ways is the accuracy - success over all\n",
        "2. This model has accuracy 0%\n",
        "3. It does not consider as much as F1-score for example"
      ]
    },
    {
      "cell_type": "markdown",
      "metadata": {
        "colab_type": "text",
        "id": "0uySA2TCavmD"
      },
      "source": [
        "## Define the cost function and optimizer"
      ]
    },
    {
      "cell_type": "markdown",
      "metadata": {
        "colab_type": "text",
        "id": "EkoobCLMavmE"
      },
      "source": [
        "### Cost function"
      ]
    },
    {
      "cell_type": "markdown",
      "metadata": {
        "colab_type": "text",
        "id": "qkX7uSXQavmF"
      },
      "source": [
        "We define the cost function according to the task we want to achieve.\n",
        "\n",
        "PyTorch offers <a href=\"https://pytorch.org/docs/stable/nn.html#loss-functions\">many ready-to-use cost functions</a>.\n",
        "\n",
        "For classification problems, the usual cost function is <b>cross-entropy</b>, and this is the one we will use in this tutorial. In PyTorch, it is defined by the function <a href=\"https://pytorch.org/docs/master/nn.functional.html#cross-entropy\">`torch.nn.functional.cross_entropy`</a>.  Cross entropy allows comparing a $p$ distribution with a reference distribution $t$. It attains its minimum when $t=p$. Its formula for calculating it between the prediction and the target is: $-\\sum_j t_{ij} \\log(p_{ij})$ where $p$ is the prediction, $t$ the target, $i$ the examples and $j$ the classes of the target."
      ]
    },
    {
      "cell_type": "code",
      "metadata": {
        "colab_type": "code",
        "id": "FHnfYeS5avmF",
        "colab": {}
      },
      "source": [
        "import torch.nn.functional as F\n",
        "\n",
        "\n",
        "def cost_function(prediction, target):\n",
        "    loss = F.cross_entropy(prediction, target)\n",
        "    return loss"
      ],
      "execution_count": 0,
      "outputs": []
    },
    {
      "cell_type": "markdown",
      "metadata": {
        "colab_type": "text",
        "id": "Vsx_cv9Wqjdj"
      },
      "source": [
        "### Backpropagation"
      ]
    },
    {
      "cell_type": "markdown",
      "metadata": {
        "colab_type": "text",
        "id": "0hcZaIKtavmH"
      },
      "source": [
        "In Pytorch, thanks to the automatic differentiation mechanism <a href=\"http://pytorch.org/docs/master/notes/autograd.html\">Autograd</a>, it is possible to automatically calculate the gradient of the cost function and backpropagate it through the computational graph.\n",
        "\n",
        "To do this, we only have to call the method `backward()` on the variable returned by the cost function, e.g., with\n",
        "\n",
        "`loss = cost_function(....)` <br>\n",
        "`loss.backward()`"
      ]
    },
    {
      "cell_type": "markdown",
      "metadata": {
        "colab_type": "text",
        "id": "8YNo_ymYavmH"
      },
      "source": [
        "### Optimization"
      ]
    },
    {
      "cell_type": "markdown",
      "metadata": {
        "colab_type": "text",
        "id": "Y4AlX9TwavmH"
      },
      "source": [
        "PyTorch provides a <a href=\"http://pytorch.org/docs/master/optim.html#algorithms\">set of optimization methods (`torch.optim`)</a> commonly used by the deep learning community. These methods include the following: \n",
        "<ul>\n",
        "<li><b>SGD</b> (Stochastic Gradient Descent) <a href=\"http://pytorch.org/docs/master/optim.html#torch.optim.SGD\">`torch.optim.SGD(net.parameters(), lr=learning_rate)`</a></li>\n",
        "<li><b>Adam</b> (Adaptive Moment Estimation): a variant of the gradient descent method in which the learning rate is adjusted for each parameter. This adjustment is based on the estimation of the first and second moments of the gradients. This optimizer has demonstrated excellent performance compared to SGD on many benchmarks. </li>\n",
        "</ul>"
      ]
    },
    {
      "cell_type": "markdown",
      "metadata": {
        "colab_type": "text",
        "id": "Uam-a0_0qjdl"
      },
      "source": [
        "To be able to use an optimizer in PyTorch, we must instantiate it by passing the following elements:\n",
        "<ul>\n",
        "<li><b>The parameters of the model</b>: these are obtained using the method <b>parameters()</b> on the instantiated model. </li>\n",
        "<li><b>The learning rate (lr)</b>: this is the learning rate to be used to update parameters during the optimization process. </li>\n",
        "<li>There may be other parameters specific to the chosen optimizer.</li>\n",
        "</ul>\n"
      ]
    },
    {
      "cell_type": "markdown",
      "metadata": {
        "colab_type": "text",
        "id": "jt6_Qr6ravmI"
      },
      "source": [
        "PyTorch offers a simplified interface to interact with any optimizer:\n",
        "<ul>\n",
        "<li><b>zero_grad()</b>: Allows to reinitialize the gradients to zero at the beginning of an optimization step.</li>\n",
        "<li><b>step()</b>: Allows to perform an optimization step after a gradient backpropagation step.</li>\n",
        "</ul>"
      ]
    },
    {
      "cell_type": "markdown",
      "metadata": {
        "colab_type": "text",
        "id": "fZ-lKExqavmI"
      },
      "source": [
        "We will use Adam with a lr of 0.001."
      ]
    },
    {
      "cell_type": "code",
      "metadata": {
        "colab_type": "code",
        "id": "WDMOziJTavmI",
        "colab": {}
      },
      "source": [
        "import torch.optim as optim\n",
        "\n",
        "optimizer = torch.optim.Adam(neural_net.parameters(), lr=0.001)"
      ],
      "execution_count": 0,
      "outputs": []
    },
    {
      "cell_type": "markdown",
      "metadata": {
        "colab_type": "text",
        "id": "OnFOAfdGqjdr"
      },
      "source": [
        "# How to train a model?\n",
        "First, we need some definitions:\n",
        "<ol>\n",
        "<li>\n",
        "<b>Epoch</b>: a complete pass over the entire training dataset.\n",
        "</li>\n",
        "<li>\n",
        "<b>Iteration</b>: an update of the model parameters. Many iterations can occur before the end of an epoch.\n",
        "</li>\n",
        "<li>\n",
        "<b>Mini-batch</b>: A subset of training data used to estimate the average of gradients. In other words, at each iteration, a mini-batch is used. \n",
        "</li>\n",
        "</ol>"
      ]
    },
    {
      "cell_type": "markdown",
      "metadata": {
        "colab_type": "text",
        "id": "LLXjNiDTavmK"
      },
      "source": [
        "## Creating the mini-batches\n",
        "PyTorch offers a utility called <b><a href=\"http://pytorch.org/docs/master/data.html\"> torch.utils.data.DataLoader </a></b> to load any dataset and automatically split it into mini-batches. During training, the data presented to the network should appear in a different order from one epoch to another. We will prepare the `DataLoader` for our three datasets (training, validation, and test)."
      ]
    },
    {
      "cell_type": "code",
      "metadata": {
        "colab_type": "code",
        "id": "RGoQZSdqavmM",
        "colab": {}
      },
      "source": [
        "train_batch_size = 32  # number of data in a training batch.\n",
        "eval_batch_size = 32   # number of data in an batch.\n",
        "\n",
        "\n",
        "train_loader = torch.utils.data.DataLoader(train_dataset, batch_size=train_batch_size, shuffle=True)\n",
        "\n",
        "val_loader   = torch.utils.data.DataLoader(val_dataset, batch_size=eval_batch_size, shuffle=True)\n",
        "test_loader  = torch.utils.data.DataLoader(test_dataset, batch_size=eval_batch_size, shuffle=True)\n"
      ],
      "execution_count": 0,
      "outputs": []
    },
    {
      "cell_type": "markdown",
      "metadata": {
        "colab_type": "text",
        "id": "Ia3ai-GvavmP"
      },
      "source": [
        "## Simple training loop"
      ]
    },
    {
      "cell_type": "markdown",
      "metadata": {
        "colab_type": "text",
        "id": "v9wNZrTnavmQ"
      },
      "source": [
        "Here we define our training procedure for an epoch."
      ]
    },
    {
      "cell_type": "code",
      "metadata": {
        "colab_type": "code",
        "id": "ZyK9xCsZavmR",
        "colab": {}
      },
      "source": [
        "def train(epoch, model, train_loader, optimizer, device):\n",
        "    \n",
        "    # activate the training mode\n",
        "    model.train()\n",
        "    \n",
        "    torch.set_grad_enabled(True)\n",
        "    \n",
        "    total_loss = 0\n",
        "    correct = 0\n",
        "    \n",
        "    # iteration over the mini-batches\n",
        "    for batch_idx, (data, target) in enumerate(train_loader):\n",
        "        \n",
        "        # transfer the data on the chosen device\n",
        "        data, target = data.to(device), target.to(device)\n",
        "        \n",
        "        # reinitialize the gradients to zero\n",
        "        optimizer.zero_grad()\n",
        "        \n",
        "        # forward propagation on the data\n",
        "        prediction = model(data)\n",
        "        \n",
        "        # compute the cost function w.r.t. the targets\n",
        "        loss = cost_function(prediction, target)\n",
        "        \n",
        "        # execute the backpropagation\n",
        "        loss.backward()\n",
        "        \n",
        "        # execute an optimization step\n",
        "        optimizer.step()\n",
        "        \n",
        "        # accumulate the loss\n",
        "        total_loss += loss.item()*len(data)\n",
        "        \n",
        "        # compute the number of correct predictions\n",
        "        _, pred_classes = torch.max(prediction, dim=1)        \n",
        "        correct += pred_classes.eq(target.view_as(pred_classes)).sum().item()\n",
        "         \n",
        "        \n",
        "    # compute the average cost per epoch\n",
        "    mean_loss = total_loss/len(train_loader.dataset)\n",
        "    \n",
        "    # compute the accuracy\n",
        "    acc = correct / len(train_loader.dataset)\n",
        "        \n",
        "    print('Train Epoch: {}   Avg_Loss: {:.5f}   Acc: {}/{} ({:.3f}%)'.format(\n",
        "        epoch, mean_loss, correct, len(train_loader.dataset),\n",
        "        100. * acc))   \n",
        "    \n",
        "    # return the average loss and the accuracy\n",
        "    return mean_loss, acc"
      ],
      "execution_count": 0,
      "outputs": []
    },
    {
      "cell_type": "markdown",
      "metadata": {
        "colab_type": "text",
        "id": "PxG666rmavmU"
      },
      "source": [
        "## Evaluation procedure"
      ]
    },
    {
      "cell_type": "markdown",
      "metadata": {
        "colab_type": "text",
        "id": "vGexbWaHavmU"
      },
      "source": [
        "Here we define our model evaluation procedure.\n",
        "<br/>\n",
        "In addition to switching the model to **eval** mode, it is essential to disable the gradient calculation. \n",
        "<br/>\n",
        "To do this, PyTorch offers a set of context managers to <a href=\"https://pytorch.org/docs/0.4.0/torch.html#locally-disabling-gradient-computation\">locally disable/enable gradient calculation </a>:\n",
        "<ol>\n",
        "<li>\n",
        "`torch.no_grad()`: disable gradient calculation.\n",
        "</li>\n",
        "<li>\n",
        "`torch.enable_grad()`: enable gradient calculation.\n",
        "</li>\n",
        "<li>\n",
        "`torch.set_grad_enabled(bool)`: enable/disable gradient calculation.\n",
        "</li>\n",
        "</ol>\n",
        "\n"
      ]
    },
    {
      "cell_type": "code",
      "metadata": {
        "colab_type": "code",
        "id": "8gQj9W5LavmU",
        "colab": {}
      },
      "source": [
        "def evaluate(model, eval_loader, device):\n",
        "    \n",
        "    # activate the evaluation mode\n",
        "    model.eval()\n",
        "    \n",
        "    total_loss = 0\n",
        "    correct = 0\n",
        "    \n",
        "    with torch.no_grad():\n",
        "    \n",
        "        # iterate over the batches\n",
        "        for batch_idx, (data, target) in enumerate(eval_loader):\n",
        "\n",
        "            # transfer the data on the chosen device\n",
        "            data, target = data.to(device), target.to(device)\n",
        "\n",
        "            # forward propagation on the data\n",
        "            prediction = model(data)\n",
        "\n",
        "            # compute the cost function w.r.t. the targets\n",
        "            loss = cost_function(prediction, target)           \n",
        "\n",
        "\n",
        "            # accumulate the loss\n",
        "            total_loss += loss.item()*len(data)\n",
        "\n",
        "            # compute the number of correct predictions en sortie)\n",
        "            _, pred_classes = torch.max(prediction, dim=1) \n",
        "            correct += pred_classes.eq(target.view_as(pred_classes)).sum().item()         \n",
        "          \n",
        "    \n",
        "    # compute the average cost per epoch\n",
        "    mean_loss = total_loss/len(eval_loader.dataset)\n",
        "    \n",
        "    # compute the accuracy\n",
        "    acc = correct / len(eval_loader.dataset)\n",
        "        \n",
        "    print('Eval:  Avg_Loss: {:.5f}   Acc: {}/{} ({:.3f}%)'.format(\n",
        "        mean_loss, correct, len(eval_loader.dataset),\n",
        "        100. * acc)) \n",
        "    \n",
        "    # return the average loss and the accuracy\n",
        "    return mean_loss, acc"
      ],
      "execution_count": 0,
      "outputs": []
    },
    {
      "cell_type": "markdown",
      "metadata": {
        "colab_type": "text",
        "id": "fMUyZNxdavmW"
      },
      "source": [
        "## Checkpointing"
      ]
    },
    {
      "cell_type": "markdown",
      "metadata": {
        "colab_type": "text",
        "id": "lQLklQXAavmW"
      },
      "source": [
        "For training phases that require much time, it is recommended to save periodically the model parameters. This step is commonly referred to as <b>checkpointing</b>.\n",
        "\n",
        "PyTorch offers <a href=\"http://pytorch.org/docs/master/notes/serialization.html\">a simple mechanism</a> to perform this operation. \n",
        "\n",
        "\n",
        "\n",
        "\n"
      ]
    },
    {
      "cell_type": "markdown",
      "metadata": {
        "colab_type": "text",
        "id": "Ld-Y2gF-avmX"
      },
      "source": [
        "We implement two methods here:\n",
        "<ul>\n",
        "<li> the first one for <b> saving </b> a model,</li>\n",
        "<li> the second for <b> loading </b> a model checkpoint. </li>\n",
        "</ul>"
      ]
    },
    {
      "cell_type": "code",
      "metadata": {
        "colab_type": "code",
        "id": "dMmNpma2avmX",
        "colab": {}
      },
      "source": [
        "def save_model(epoch, model, path='./'):\n",
        "    \n",
        "    # creating the file name indexed by the epoch value\n",
        "    filename = path + 'neural_network_{}.pt'.format(epoch)\n",
        "    \n",
        "    # saving the model parameters\n",
        "    torch.save(model.state_dict(), filename)\n",
        "    \n",
        "    \n",
        "    return model\n",
        "    "
      ],
      "execution_count": 0,
      "outputs": []
    },
    {
      "cell_type": "code",
      "metadata": {
        "colab_type": "code",
        "id": "2ZptgqQRavmZ",
        "colab": {}
      },
      "source": [
        "def load_model(epoch, model, path='./'):\n",
        "    \n",
        "    # creating the file name indexed by the epoch value\n",
        "    filename = path + 'neural_network_{}.pt'.format(epoch)\n",
        "    \n",
        "    # loading the parameters of the saved model\n",
        "    model.load_state_dict(torch.load(filename))\n",
        "    \n",
        "    \n",
        "    return model"
      ],
      "execution_count": 0,
      "outputs": []
    },
    {
      "cell_type": "markdown",
      "metadata": {
        "colab_type": "text",
        "id": "ve8sOocWavma"
      },
      "source": [
        "It is also possible to save the status of the optimizer in PyTorch, which is very important when we want to resume training the model from a given backup. For more information, please consult <a href='https://discuss.pytorch.org/t/saving-and-loading-a-model-in-pytorch/2610/3'>the following URL</a>. "
      ]
    },
    {
      "cell_type": "markdown",
      "metadata": {
        "colab_type": "text",
        "id": "8lcAP8-1avma"
      },
      "source": [
        "## Putting everything together"
      ]
    },
    {
      "cell_type": "code",
      "metadata": {
        "colab_type": "code",
        "id": "keMpyePsavmb",
        "outputId": "8cfe990d-369e-4137-e6d1-1976dd321d75",
        "colab": {
          "base_uri": "https://localhost:8080/",
          "height": 1000
        }
      },
      "source": [
        "# maximum number of epoch\n",
        "numEpochs = 200\n",
        "\n",
        "# Saving frequency\n",
        "checkpoint_freq = 10\n",
        "\n",
        "# Directory for data backup\n",
        "path = './'\n",
        "\n",
        "# Accumulators of average costs obtained per epoch\n",
        "train_losses = []\n",
        "val_losses = []\n",
        "\n",
        "# Performance accumulators per epoch\n",
        "train_accuracies = []\n",
        "val_accuracies = []\n",
        "\n",
        "# Model definition\n",
        "neural_net = NeuralNet()\n",
        "\n",
        "# Load the model on the chosen device\n",
        "neural_net = neural_net.to(device)\n",
        "\n",
        "# Optimizer definition\n",
        "optimizer = optim.Adam(neural_net.parameters(), lr=0.001) \n",
        "# optimizer = optim.SGD(neural_net.parameters(), lr=0.001) \n",
        "\n",
        "\n",
        "# Learning loop\n",
        "for epoch in range(1, numEpochs + 1):\n",
        "    \n",
        "    # train the model with the train dataset\n",
        "    train_loss, train_acc = train(epoch, neural_net, train_loader, optimizer, device)   \n",
        "    \n",
        "    # evaluate the model with the validation dataset\n",
        "    val_loss, val_acc = evaluate(neural_net, val_loader, device)       \n",
        "    \n",
        "    # Save the costs obtained\n",
        "    train_losses.append(train_loss)    \n",
        "    val_losses.append(val_loss)\n",
        "    \n",
        "    # Save the performances\n",
        "    train_accuracies.append(train_acc)    \n",
        "    val_accuracies.append(val_acc)\n",
        "    \n",
        "    # Checkpoint\n",
        "    if epoch % checkpoint_freq ==0:\n",
        "        save_model(epoch, neural_net, path)\n",
        "\n",
        "# Save the model at the end of the training\n",
        "save_model(numEpochs, neural_net, path)\n",
        "    \n",
        "print(\"\\n\\n\\nOptimization ended.\\n\")    \n"
      ],
      "execution_count": 18,
      "outputs": [
        {
          "output_type": "stream",
          "text": [
            "Train Epoch: 1   Avg_Loss: 0.82669   Acc: 275/625 (44.000%)\n",
            "Eval:  Avg_Loss: 0.69597   Acc: 99/209 (47.368%)\n",
            "Train Epoch: 2   Avg_Loss: 0.65850   Acc: 406/625 (64.960%)\n",
            "Eval:  Avg_Loss: 0.64826   Acc: 143/209 (68.421%)\n",
            "Train Epoch: 3   Avg_Loss: 0.63012   Acc: 422/625 (67.520%)\n",
            "Eval:  Avg_Loss: 0.62541   Acc: 144/209 (68.900%)\n",
            "Train Epoch: 4   Avg_Loss: 0.61821   Acc: 424/625 (67.840%)\n",
            "Eval:  Avg_Loss: 0.61376   Acc: 142/209 (67.943%)\n",
            "Train Epoch: 5   Avg_Loss: 0.60985   Acc: 424/625 (67.840%)\n",
            "Eval:  Avg_Loss: 0.60510   Acc: 142/209 (67.943%)\n",
            "Train Epoch: 6   Avg_Loss: 0.60632   Acc: 428/625 (68.480%)\n",
            "Eval:  Avg_Loss: 0.59929   Acc: 144/209 (68.900%)\n",
            "Train Epoch: 7   Avg_Loss: 0.60377   Acc: 421/625 (67.360%)\n",
            "Eval:  Avg_Loss: 0.59803   Acc: 144/209 (68.900%)\n",
            "Train Epoch: 8   Avg_Loss: 0.59569   Acc: 427/625 (68.320%)\n",
            "Eval:  Avg_Loss: 0.58945   Acc: 145/209 (69.378%)\n",
            "Train Epoch: 9   Avg_Loss: 0.59309   Acc: 430/625 (68.800%)\n",
            "Eval:  Avg_Loss: 0.58104   Acc: 146/209 (69.856%)\n",
            "Train Epoch: 10   Avg_Loss: 0.59179   Acc: 435/625 (69.600%)\n",
            "Eval:  Avg_Loss: 0.57680   Acc: 145/209 (69.378%)\n",
            "Train Epoch: 11   Avg_Loss: 0.57512   Acc: 433/625 (69.280%)\n",
            "Eval:  Avg_Loss: 0.56874   Acc: 145/209 (69.378%)\n",
            "Train Epoch: 12   Avg_Loss: 0.56806   Acc: 441/625 (70.560%)\n",
            "Eval:  Avg_Loss: 0.55840   Acc: 147/209 (70.335%)\n",
            "Train Epoch: 13   Avg_Loss: 0.56444   Acc: 457/625 (73.120%)\n",
            "Eval:  Avg_Loss: 0.55418   Acc: 147/209 (70.335%)\n",
            "Train Epoch: 14   Avg_Loss: 0.54458   Acc: 462/625 (73.920%)\n",
            "Eval:  Avg_Loss: 0.53808   Acc: 153/209 (73.206%)\n",
            "Train Epoch: 15   Avg_Loss: 0.53177   Acc: 469/625 (75.040%)\n",
            "Eval:  Avg_Loss: 0.53186   Acc: 149/209 (71.292%)\n",
            "Train Epoch: 16   Avg_Loss: 0.51949   Acc: 475/625 (76.000%)\n",
            "Eval:  Avg_Loss: 0.51475   Acc: 160/209 (76.555%)\n",
            "Train Epoch: 17   Avg_Loss: 0.50293   Acc: 480/625 (76.800%)\n",
            "Eval:  Avg_Loss: 0.51061   Acc: 163/209 (77.990%)\n",
            "Train Epoch: 18   Avg_Loss: 0.48700   Acc: 491/625 (78.560%)\n",
            "Eval:  Avg_Loss: 0.51636   Acc: 162/209 (77.512%)\n",
            "Train Epoch: 19   Avg_Loss: 0.48710   Acc: 495/625 (79.200%)\n",
            "Eval:  Avg_Loss: 0.49775   Acc: 164/209 (78.469%)\n",
            "Train Epoch: 20   Avg_Loss: 0.48913   Acc: 488/625 (78.080%)\n",
            "Eval:  Avg_Loss: 0.51263   Acc: 159/209 (76.077%)\n",
            "Train Epoch: 21   Avg_Loss: 0.46846   Acc: 492/625 (78.720%)\n",
            "Eval:  Avg_Loss: 0.50197   Acc: 164/209 (78.469%)\n",
            "Train Epoch: 22   Avg_Loss: 0.45553   Acc: 500/625 (80.000%)\n",
            "Eval:  Avg_Loss: 0.49613   Acc: 165/209 (78.947%)\n",
            "Train Epoch: 23   Avg_Loss: 0.45452   Acc: 495/625 (79.200%)\n",
            "Eval:  Avg_Loss: 0.50118   Acc: 165/209 (78.947%)\n",
            "Train Epoch: 24   Avg_Loss: 0.45607   Acc: 498/625 (79.680%)\n",
            "Eval:  Avg_Loss: 0.51247   Acc: 164/209 (78.469%)\n",
            "Train Epoch: 25   Avg_Loss: 0.45085   Acc: 499/625 (79.840%)\n",
            "Eval:  Avg_Loss: 0.50153   Acc: 163/209 (77.990%)\n",
            "Train Epoch: 26   Avg_Loss: 0.45898   Acc: 494/625 (79.040%)\n",
            "Eval:  Avg_Loss: 0.51583   Acc: 166/209 (79.426%)\n",
            "Train Epoch: 27   Avg_Loss: 0.45134   Acc: 502/625 (80.320%)\n",
            "Eval:  Avg_Loss: 0.50915   Acc: 165/209 (78.947%)\n",
            "Train Epoch: 28   Avg_Loss: 0.44525   Acc: 500/625 (80.000%)\n",
            "Eval:  Avg_Loss: 0.50253   Acc: 165/209 (78.947%)\n",
            "Train Epoch: 29   Avg_Loss: 0.44426   Acc: 500/625 (80.000%)\n",
            "Eval:  Avg_Loss: 0.51190   Acc: 165/209 (78.947%)\n",
            "Train Epoch: 30   Avg_Loss: 0.46858   Acc: 492/625 (78.720%)\n",
            "Eval:  Avg_Loss: 0.52152   Acc: 166/209 (79.426%)\n",
            "Train Epoch: 31   Avg_Loss: 0.44253   Acc: 507/625 (81.120%)\n",
            "Eval:  Avg_Loss: 0.51773   Acc: 159/209 (76.077%)\n",
            "Train Epoch: 32   Avg_Loss: 0.43517   Acc: 504/625 (80.640%)\n",
            "Eval:  Avg_Loss: 0.51228   Acc: 165/209 (78.947%)\n",
            "Train Epoch: 33   Avg_Loss: 0.43485   Acc: 506/625 (80.960%)\n",
            "Eval:  Avg_Loss: 0.50064   Acc: 165/209 (78.947%)\n",
            "Train Epoch: 34   Avg_Loss: 0.43151   Acc: 510/625 (81.600%)\n",
            "Eval:  Avg_Loss: 0.50669   Acc: 163/209 (77.990%)\n",
            "Train Epoch: 35   Avg_Loss: 0.43067   Acc: 503/625 (80.480%)\n",
            "Eval:  Avg_Loss: 0.51438   Acc: 164/209 (78.469%)\n",
            "Train Epoch: 36   Avg_Loss: 0.43007   Acc: 508/625 (81.280%)\n",
            "Eval:  Avg_Loss: 0.50259   Acc: 169/209 (80.861%)\n",
            "Train Epoch: 37   Avg_Loss: 0.42670   Acc: 505/625 (80.800%)\n",
            "Eval:  Avg_Loss: 0.50689   Acc: 164/209 (78.469%)\n",
            "Train Epoch: 38   Avg_Loss: 0.42275   Acc: 511/625 (81.760%)\n",
            "Eval:  Avg_Loss: 0.50945   Acc: 165/209 (78.947%)\n",
            "Train Epoch: 39   Avg_Loss: 0.42285   Acc: 507/625 (81.120%)\n",
            "Eval:  Avg_Loss: 0.52366   Acc: 166/209 (79.426%)\n",
            "Train Epoch: 40   Avg_Loss: 0.42955   Acc: 502/625 (80.320%)\n",
            "Eval:  Avg_Loss: 0.51632   Acc: 166/209 (79.426%)\n",
            "Train Epoch: 41   Avg_Loss: 0.42867   Acc: 509/625 (81.440%)\n",
            "Eval:  Avg_Loss: 0.51964   Acc: 166/209 (79.426%)\n",
            "Train Epoch: 42   Avg_Loss: 0.41779   Acc: 505/625 (80.800%)\n",
            "Eval:  Avg_Loss: 0.50866   Acc: 164/209 (78.469%)\n",
            "Train Epoch: 43   Avg_Loss: 0.41841   Acc: 508/625 (81.280%)\n",
            "Eval:  Avg_Loss: 0.51318   Acc: 163/209 (77.990%)\n",
            "Train Epoch: 44   Avg_Loss: 0.42109   Acc: 509/625 (81.440%)\n",
            "Eval:  Avg_Loss: 0.51571   Acc: 166/209 (79.426%)\n",
            "Train Epoch: 45   Avg_Loss: 0.42191   Acc: 507/625 (81.120%)\n",
            "Eval:  Avg_Loss: 0.51831   Acc: 163/209 (77.990%)\n",
            "Train Epoch: 46   Avg_Loss: 0.41952   Acc: 507/625 (81.120%)\n",
            "Eval:  Avg_Loss: 0.53006   Acc: 165/209 (78.947%)\n",
            "Train Epoch: 47   Avg_Loss: 0.42187   Acc: 507/625 (81.120%)\n",
            "Eval:  Avg_Loss: 0.51556   Acc: 162/209 (77.512%)\n",
            "Train Epoch: 48   Avg_Loss: 0.42089   Acc: 511/625 (81.760%)\n",
            "Eval:  Avg_Loss: 0.52196   Acc: 163/209 (77.990%)\n",
            "Train Epoch: 49   Avg_Loss: 0.42243   Acc: 504/625 (80.640%)\n",
            "Eval:  Avg_Loss: 0.53337   Acc: 161/209 (77.033%)\n",
            "Train Epoch: 50   Avg_Loss: 0.44248   Acc: 496/625 (79.360%)\n",
            "Eval:  Avg_Loss: 0.56288   Acc: 166/209 (79.426%)\n",
            "Train Epoch: 51   Avg_Loss: 0.41574   Acc: 509/625 (81.440%)\n",
            "Eval:  Avg_Loss: 0.50131   Acc: 166/209 (79.426%)\n",
            "Train Epoch: 52   Avg_Loss: 0.40837   Acc: 513/625 (82.080%)\n",
            "Eval:  Avg_Loss: 0.52545   Acc: 166/209 (79.426%)\n",
            "Train Epoch: 53   Avg_Loss: 0.41292   Acc: 512/625 (81.920%)\n",
            "Eval:  Avg_Loss: 0.53047   Acc: 163/209 (77.990%)\n",
            "Train Epoch: 54   Avg_Loss: 0.41307   Acc: 515/625 (82.400%)\n",
            "Eval:  Avg_Loss: 0.52885   Acc: 168/209 (80.383%)\n",
            "Train Epoch: 55   Avg_Loss: 0.41528   Acc: 508/625 (81.280%)\n",
            "Eval:  Avg_Loss: 0.50485   Acc: 169/209 (80.861%)\n",
            "Train Epoch: 56   Avg_Loss: 0.41314   Acc: 508/625 (81.280%)\n",
            "Eval:  Avg_Loss: 0.54372   Acc: 167/209 (79.904%)\n",
            "Train Epoch: 57   Avg_Loss: 0.42676   Acc: 505/625 (80.800%)\n",
            "Eval:  Avg_Loss: 0.55514   Acc: 165/209 (78.947%)\n",
            "Train Epoch: 58   Avg_Loss: 0.43494   Acc: 505/625 (80.800%)\n",
            "Eval:  Avg_Loss: 0.54931   Acc: 161/209 (77.033%)\n",
            "Train Epoch: 59   Avg_Loss: 0.41116   Acc: 515/625 (82.400%)\n",
            "Eval:  Avg_Loss: 0.54184   Acc: 166/209 (79.426%)\n",
            "Train Epoch: 60   Avg_Loss: 0.41024   Acc: 512/625 (81.920%)\n",
            "Eval:  Avg_Loss: 0.53018   Acc: 166/209 (79.426%)\n",
            "Train Epoch: 61   Avg_Loss: 0.40700   Acc: 513/625 (82.080%)\n",
            "Eval:  Avg_Loss: 0.53357   Acc: 167/209 (79.904%)\n",
            "Train Epoch: 62   Avg_Loss: 0.40700   Acc: 511/625 (81.760%)\n",
            "Eval:  Avg_Loss: 0.53117   Acc: 168/209 (80.383%)\n",
            "Train Epoch: 63   Avg_Loss: 0.41135   Acc: 512/625 (81.920%)\n",
            "Eval:  Avg_Loss: 0.56039   Acc: 163/209 (77.990%)\n",
            "Train Epoch: 64   Avg_Loss: 0.40381   Acc: 515/625 (82.400%)\n",
            "Eval:  Avg_Loss: 0.51949   Acc: 167/209 (79.904%)\n",
            "Train Epoch: 65   Avg_Loss: 0.40118   Acc: 512/625 (81.920%)\n",
            "Eval:  Avg_Loss: 0.52470   Acc: 169/209 (80.861%)\n",
            "Train Epoch: 66   Avg_Loss: 0.40018   Acc: 512/625 (81.920%)\n",
            "Eval:  Avg_Loss: 0.54634   Acc: 167/209 (79.904%)\n",
            "Train Epoch: 67   Avg_Loss: 0.40575   Acc: 509/625 (81.440%)\n",
            "Eval:  Avg_Loss: 0.53385   Acc: 166/209 (79.426%)\n",
            "Train Epoch: 68   Avg_Loss: 0.40737   Acc: 510/625 (81.600%)\n",
            "Eval:  Avg_Loss: 0.51464   Acc: 168/209 (80.383%)\n",
            "Train Epoch: 69   Avg_Loss: 0.40644   Acc: 512/625 (81.920%)\n",
            "Eval:  Avg_Loss: 0.53307   Acc: 168/209 (80.383%)\n",
            "Train Epoch: 70   Avg_Loss: 0.39418   Acc: 516/625 (82.560%)\n",
            "Eval:  Avg_Loss: 0.54031   Acc: 169/209 (80.861%)\n",
            "Train Epoch: 71   Avg_Loss: 0.39612   Acc: 517/625 (82.720%)\n",
            "Eval:  Avg_Loss: 0.53105   Acc: 168/209 (80.383%)\n",
            "Train Epoch: 72   Avg_Loss: 0.39864   Acc: 516/625 (82.560%)\n",
            "Eval:  Avg_Loss: 0.53935   Acc: 168/209 (80.383%)\n",
            "Train Epoch: 73   Avg_Loss: 0.39616   Acc: 514/625 (82.240%)\n",
            "Eval:  Avg_Loss: 0.53970   Acc: 168/209 (80.383%)\n",
            "Train Epoch: 74   Avg_Loss: 0.39667   Acc: 517/625 (82.720%)\n",
            "Eval:  Avg_Loss: 0.55711   Acc: 168/209 (80.383%)\n",
            "Train Epoch: 75   Avg_Loss: 0.41143   Acc: 513/625 (82.080%)\n",
            "Eval:  Avg_Loss: 0.53077   Acc: 169/209 (80.861%)\n",
            "Train Epoch: 76   Avg_Loss: 0.41532   Acc: 513/625 (82.080%)\n",
            "Eval:  Avg_Loss: 0.53454   Acc: 169/209 (80.861%)\n",
            "Train Epoch: 77   Avg_Loss: 0.39868   Acc: 517/625 (82.720%)\n",
            "Eval:  Avg_Loss: 0.54773   Acc: 169/209 (80.861%)\n",
            "Train Epoch: 78   Avg_Loss: 0.39264   Acc: 522/625 (83.520%)\n",
            "Eval:  Avg_Loss: 0.56033   Acc: 167/209 (79.904%)\n",
            "Train Epoch: 79   Avg_Loss: 0.39597   Acc: 515/625 (82.400%)\n",
            "Eval:  Avg_Loss: 0.56441   Acc: 170/209 (81.340%)\n",
            "Train Epoch: 80   Avg_Loss: 0.39843   Acc: 520/625 (83.200%)\n",
            "Eval:  Avg_Loss: 0.55200   Acc: 169/209 (80.861%)\n",
            "Train Epoch: 81   Avg_Loss: 0.38947   Acc: 520/625 (83.200%)\n",
            "Eval:  Avg_Loss: 0.55720   Acc: 169/209 (80.861%)\n",
            "Train Epoch: 82   Avg_Loss: 0.39010   Acc: 519/625 (83.040%)\n",
            "Eval:  Avg_Loss: 0.54893   Acc: 170/209 (81.340%)\n",
            "Train Epoch: 83   Avg_Loss: 0.39460   Acc: 521/625 (83.360%)\n",
            "Eval:  Avg_Loss: 0.54867   Acc: 170/209 (81.340%)\n",
            "Train Epoch: 84   Avg_Loss: 0.39307   Acc: 517/625 (82.720%)\n",
            "Eval:  Avg_Loss: 0.55812   Acc: 170/209 (81.340%)\n",
            "Train Epoch: 85   Avg_Loss: 0.39425   Acc: 516/625 (82.560%)\n",
            "Eval:  Avg_Loss: 0.58134   Acc: 170/209 (81.340%)\n",
            "Train Epoch: 86   Avg_Loss: 0.38823   Acc: 520/625 (83.200%)\n",
            "Eval:  Avg_Loss: 0.58528   Acc: 169/209 (80.861%)\n",
            "Train Epoch: 87   Avg_Loss: 0.38989   Acc: 520/625 (83.200%)\n",
            "Eval:  Avg_Loss: 0.56877   Acc: 172/209 (82.297%)\n",
            "Train Epoch: 88   Avg_Loss: 0.39032   Acc: 519/625 (83.040%)\n",
            "Eval:  Avg_Loss: 0.56349   Acc: 169/209 (80.861%)\n",
            "Train Epoch: 89   Avg_Loss: 0.38577   Acc: 517/625 (82.720%)\n",
            "Eval:  Avg_Loss: 0.56681   Acc: 170/209 (81.340%)\n",
            "Train Epoch: 90   Avg_Loss: 0.39089   Acc: 519/625 (83.040%)\n",
            "Eval:  Avg_Loss: 0.55070   Acc: 170/209 (81.340%)\n",
            "Train Epoch: 91   Avg_Loss: 0.39630   Acc: 528/625 (84.480%)\n",
            "Eval:  Avg_Loss: 0.56445   Acc: 173/209 (82.775%)\n",
            "Train Epoch: 92   Avg_Loss: 0.40375   Acc: 515/625 (82.400%)\n",
            "Eval:  Avg_Loss: 0.57946   Acc: 170/209 (81.340%)\n",
            "Train Epoch: 93   Avg_Loss: 0.39637   Acc: 518/625 (82.880%)\n",
            "Eval:  Avg_Loss: 0.54121   Acc: 170/209 (81.340%)\n",
            "Train Epoch: 94   Avg_Loss: 0.38739   Acc: 523/625 (83.680%)\n",
            "Eval:  Avg_Loss: 0.57454   Acc: 171/209 (81.818%)\n",
            "Train Epoch: 95   Avg_Loss: 0.38669   Acc: 520/625 (83.200%)\n",
            "Eval:  Avg_Loss: 0.56038   Acc: 171/209 (81.818%)\n",
            "Train Epoch: 96   Avg_Loss: 0.38483   Acc: 520/625 (83.200%)\n",
            "Eval:  Avg_Loss: 0.58535   Acc: 169/209 (80.861%)\n",
            "Train Epoch: 97   Avg_Loss: 0.39275   Acc: 520/625 (83.200%)\n",
            "Eval:  Avg_Loss: 0.57416   Acc: 169/209 (80.861%)\n",
            "Train Epoch: 98   Avg_Loss: 0.39067   Acc: 518/625 (82.880%)\n",
            "Eval:  Avg_Loss: 0.56240   Acc: 169/209 (80.861%)\n",
            "Train Epoch: 99   Avg_Loss: 0.38647   Acc: 515/625 (82.400%)\n",
            "Eval:  Avg_Loss: 0.57478   Acc: 169/209 (80.861%)\n",
            "Train Epoch: 100   Avg_Loss: 0.38339   Acc: 524/625 (83.840%)\n",
            "Eval:  Avg_Loss: 0.58290   Acc: 171/209 (81.818%)\n",
            "Train Epoch: 101   Avg_Loss: 0.38813   Acc: 520/625 (83.200%)\n",
            "Eval:  Avg_Loss: 0.55882   Acc: 171/209 (81.818%)\n",
            "Train Epoch: 102   Avg_Loss: 0.39123   Acc: 519/625 (83.040%)\n",
            "Eval:  Avg_Loss: 0.57525   Acc: 167/209 (79.904%)\n",
            "Train Epoch: 103   Avg_Loss: 0.38311   Acc: 517/625 (82.720%)\n",
            "Eval:  Avg_Loss: 0.57953   Acc: 172/209 (82.297%)\n",
            "Train Epoch: 104   Avg_Loss: 0.38776   Acc: 515/625 (82.400%)\n",
            "Eval:  Avg_Loss: 0.57695   Acc: 168/209 (80.383%)\n",
            "Train Epoch: 105   Avg_Loss: 0.39583   Acc: 508/625 (81.280%)\n",
            "Eval:  Avg_Loss: 0.60303   Acc: 169/209 (80.861%)\n",
            "Train Epoch: 106   Avg_Loss: 0.38372   Acc: 519/625 (83.040%)\n",
            "Eval:  Avg_Loss: 0.55122   Acc: 172/209 (82.297%)\n",
            "Train Epoch: 107   Avg_Loss: 0.38114   Acc: 520/625 (83.200%)\n",
            "Eval:  Avg_Loss: 0.58337   Acc: 169/209 (80.861%)\n",
            "Train Epoch: 108   Avg_Loss: 0.37844   Acc: 522/625 (83.520%)\n",
            "Eval:  Avg_Loss: 0.57823   Acc: 169/209 (80.861%)\n",
            "Train Epoch: 109   Avg_Loss: 0.38427   Acc: 514/625 (82.240%)\n",
            "Eval:  Avg_Loss: 0.59792   Acc: 169/209 (80.861%)\n",
            "Train Epoch: 110   Avg_Loss: 0.38541   Acc: 519/625 (83.040%)\n",
            "Eval:  Avg_Loss: 0.59982   Acc: 169/209 (80.861%)\n",
            "Train Epoch: 111   Avg_Loss: 0.39053   Acc: 516/625 (82.560%)\n",
            "Eval:  Avg_Loss: 0.68024   Acc: 167/209 (79.904%)\n",
            "Train Epoch: 112   Avg_Loss: 0.40546   Acc: 509/625 (81.440%)\n",
            "Eval:  Avg_Loss: 0.61509   Acc: 168/209 (80.383%)\n",
            "Train Epoch: 113   Avg_Loss: 0.39166   Acc: 509/625 (81.440%)\n",
            "Eval:  Avg_Loss: 0.53852   Acc: 170/209 (81.340%)\n",
            "Train Epoch: 114   Avg_Loss: 0.38556   Acc: 524/625 (83.840%)\n",
            "Eval:  Avg_Loss: 0.56821   Acc: 169/209 (80.861%)\n",
            "Train Epoch: 115   Avg_Loss: 0.39027   Acc: 516/625 (82.560%)\n",
            "Eval:  Avg_Loss: 0.58639   Acc: 170/209 (81.340%)\n",
            "Train Epoch: 116   Avg_Loss: 0.38667   Acc: 517/625 (82.720%)\n",
            "Eval:  Avg_Loss: 0.58722   Acc: 169/209 (80.861%)\n",
            "Train Epoch: 117   Avg_Loss: 0.38339   Acc: 525/625 (84.000%)\n",
            "Eval:  Avg_Loss: 0.59736   Acc: 168/209 (80.383%)\n",
            "Train Epoch: 118   Avg_Loss: 0.39209   Acc: 513/625 (82.080%)\n",
            "Eval:  Avg_Loss: 0.58087   Acc: 168/209 (80.383%)\n",
            "Train Epoch: 119   Avg_Loss: 0.38412   Acc: 515/625 (82.400%)\n",
            "Eval:  Avg_Loss: 0.57748   Acc: 169/209 (80.861%)\n",
            "Train Epoch: 120   Avg_Loss: 0.38064   Acc: 516/625 (82.560%)\n",
            "Eval:  Avg_Loss: 0.57599   Acc: 169/209 (80.861%)\n",
            "Train Epoch: 121   Avg_Loss: 0.37172   Acc: 524/625 (83.840%)\n",
            "Eval:  Avg_Loss: 0.59729   Acc: 170/209 (81.340%)\n",
            "Train Epoch: 122   Avg_Loss: 0.37483   Acc: 524/625 (83.840%)\n",
            "Eval:  Avg_Loss: 0.58926   Acc: 170/209 (81.340%)\n",
            "Train Epoch: 123   Avg_Loss: 0.39617   Acc: 513/625 (82.080%)\n",
            "Eval:  Avg_Loss: 0.59025   Acc: 168/209 (80.383%)\n",
            "Train Epoch: 124   Avg_Loss: 0.38345   Acc: 521/625 (83.360%)\n",
            "Eval:  Avg_Loss: 0.57120   Acc: 169/209 (80.861%)\n",
            "Train Epoch: 125   Avg_Loss: 0.38544   Acc: 513/625 (82.080%)\n",
            "Eval:  Avg_Loss: 0.59829   Acc: 169/209 (80.861%)\n",
            "Train Epoch: 126   Avg_Loss: 0.37599   Acc: 518/625 (82.880%)\n",
            "Eval:  Avg_Loss: 0.52870   Acc: 167/209 (79.904%)\n",
            "Train Epoch: 127   Avg_Loss: 0.40661   Acc: 507/625 (81.120%)\n",
            "Eval:  Avg_Loss: 0.54564   Acc: 169/209 (80.861%)\n",
            "Train Epoch: 128   Avg_Loss: 0.37960   Acc: 520/625 (83.200%)\n",
            "Eval:  Avg_Loss: 0.55097   Acc: 171/209 (81.818%)\n",
            "Train Epoch: 129   Avg_Loss: 0.37465   Acc: 527/625 (84.320%)\n",
            "Eval:  Avg_Loss: 0.54938   Acc: 168/209 (80.383%)\n",
            "Train Epoch: 130   Avg_Loss: 0.37411   Acc: 524/625 (83.840%)\n",
            "Eval:  Avg_Loss: 0.56420   Acc: 169/209 (80.861%)\n",
            "Train Epoch: 131   Avg_Loss: 0.37132   Acc: 526/625 (84.160%)\n",
            "Eval:  Avg_Loss: 0.57814   Acc: 169/209 (80.861%)\n",
            "Train Epoch: 132   Avg_Loss: 0.37009   Acc: 521/625 (83.360%)\n",
            "Eval:  Avg_Loss: 0.57471   Acc: 170/209 (81.340%)\n",
            "Train Epoch: 133   Avg_Loss: 0.37313   Acc: 521/625 (83.360%)\n",
            "Eval:  Avg_Loss: 0.59222   Acc: 168/209 (80.383%)\n",
            "Train Epoch: 134   Avg_Loss: 0.37603   Acc: 521/625 (83.360%)\n",
            "Eval:  Avg_Loss: 0.58411   Acc: 170/209 (81.340%)\n",
            "Train Epoch: 135   Avg_Loss: 0.36635   Acc: 523/625 (83.680%)\n",
            "Eval:  Avg_Loss: 0.59592   Acc: 170/209 (81.340%)\n",
            "Train Epoch: 136   Avg_Loss: 0.37603   Acc: 515/625 (82.400%)\n",
            "Eval:  Avg_Loss: 0.61860   Acc: 168/209 (80.383%)\n",
            "Train Epoch: 137   Avg_Loss: 0.37443   Acc: 519/625 (83.040%)\n",
            "Eval:  Avg_Loss: 0.59732   Acc: 168/209 (80.383%)\n",
            "Train Epoch: 138   Avg_Loss: 0.36906   Acc: 523/625 (83.680%)\n",
            "Eval:  Avg_Loss: 0.57786   Acc: 171/209 (81.818%)\n",
            "Train Epoch: 139   Avg_Loss: 0.36673   Acc: 521/625 (83.360%)\n",
            "Eval:  Avg_Loss: 0.58630   Acc: 170/209 (81.340%)\n",
            "Train Epoch: 140   Avg_Loss: 0.36670   Acc: 522/625 (83.520%)\n",
            "Eval:  Avg_Loss: 0.60909   Acc: 168/209 (80.383%)\n",
            "Train Epoch: 141   Avg_Loss: 0.37040   Acc: 525/625 (84.000%)\n",
            "Eval:  Avg_Loss: 0.58611   Acc: 168/209 (80.383%)\n",
            "Train Epoch: 142   Avg_Loss: 0.36296   Acc: 524/625 (83.840%)\n",
            "Eval:  Avg_Loss: 0.60049   Acc: 168/209 (80.383%)\n",
            "Train Epoch: 143   Avg_Loss: 0.37042   Acc: 523/625 (83.680%)\n",
            "Eval:  Avg_Loss: 0.58858   Acc: 171/209 (81.818%)\n",
            "Train Epoch: 144   Avg_Loss: 0.38660   Acc: 513/625 (82.080%)\n",
            "Eval:  Avg_Loss: 0.60788   Acc: 168/209 (80.383%)\n",
            "Train Epoch: 145   Avg_Loss: 0.37780   Acc: 525/625 (84.000%)\n",
            "Eval:  Avg_Loss: 0.59612   Acc: 169/209 (80.861%)\n",
            "Train Epoch: 146   Avg_Loss: 0.37392   Acc: 521/625 (83.360%)\n",
            "Eval:  Avg_Loss: 0.60527   Acc: 167/209 (79.904%)\n",
            "Train Epoch: 147   Avg_Loss: 0.38154   Acc: 519/625 (83.040%)\n",
            "Eval:  Avg_Loss: 0.63769   Acc: 168/209 (80.383%)\n",
            "Train Epoch: 148   Avg_Loss: 0.36252   Acc: 524/625 (83.840%)\n",
            "Eval:  Avg_Loss: 0.62009   Acc: 168/209 (80.383%)\n",
            "Train Epoch: 149   Avg_Loss: 0.38514   Acc: 517/625 (82.720%)\n",
            "Eval:  Avg_Loss: 0.63392   Acc: 169/209 (80.861%)\n",
            "Train Epoch: 150   Avg_Loss: 0.39674   Acc: 518/625 (82.880%)\n",
            "Eval:  Avg_Loss: 0.67155   Acc: 166/209 (79.426%)\n",
            "Train Epoch: 151   Avg_Loss: 0.40247   Acc: 515/625 (82.400%)\n",
            "Eval:  Avg_Loss: 0.58238   Acc: 167/209 (79.904%)\n",
            "Train Epoch: 152   Avg_Loss: 0.37740   Acc: 525/625 (84.000%)\n",
            "Eval:  Avg_Loss: 0.58757   Acc: 169/209 (80.861%)\n",
            "Train Epoch: 153   Avg_Loss: 0.36648   Acc: 524/625 (83.840%)\n",
            "Eval:  Avg_Loss: 0.60152   Acc: 171/209 (81.818%)\n",
            "Train Epoch: 154   Avg_Loss: 0.36480   Acc: 524/625 (83.840%)\n",
            "Eval:  Avg_Loss: 0.59815   Acc: 166/209 (79.426%)\n",
            "Train Epoch: 155   Avg_Loss: 0.35941   Acc: 526/625 (84.160%)\n",
            "Eval:  Avg_Loss: 0.60154   Acc: 168/209 (80.383%)\n",
            "Train Epoch: 156   Avg_Loss: 0.36069   Acc: 520/625 (83.200%)\n",
            "Eval:  Avg_Loss: 0.59441   Acc: 170/209 (81.340%)\n",
            "Train Epoch: 157   Avg_Loss: 0.36710   Acc: 527/625 (84.320%)\n",
            "Eval:  Avg_Loss: 0.59946   Acc: 166/209 (79.426%)\n",
            "Train Epoch: 158   Avg_Loss: 0.36375   Acc: 524/625 (83.840%)\n",
            "Eval:  Avg_Loss: 0.59847   Acc: 167/209 (79.904%)\n",
            "Train Epoch: 159   Avg_Loss: 0.35975   Acc: 525/625 (84.000%)\n",
            "Eval:  Avg_Loss: 0.58816   Acc: 169/209 (80.861%)\n",
            "Train Epoch: 160   Avg_Loss: 0.36000   Acc: 528/625 (84.480%)\n",
            "Eval:  Avg_Loss: 0.59744   Acc: 166/209 (79.426%)\n",
            "Train Epoch: 161   Avg_Loss: 0.36312   Acc: 521/625 (83.360%)\n",
            "Eval:  Avg_Loss: 0.59201   Acc: 172/209 (82.297%)\n",
            "Train Epoch: 162   Avg_Loss: 0.36261   Acc: 517/625 (82.720%)\n",
            "Eval:  Avg_Loss: 0.59872   Acc: 170/209 (81.340%)\n",
            "Train Epoch: 163   Avg_Loss: 0.36559   Acc: 525/625 (84.000%)\n",
            "Eval:  Avg_Loss: 0.60737   Acc: 171/209 (81.818%)\n",
            "Train Epoch: 164   Avg_Loss: 0.36973   Acc: 519/625 (83.040%)\n",
            "Eval:  Avg_Loss: 0.58029   Acc: 170/209 (81.340%)\n",
            "Train Epoch: 165   Avg_Loss: 0.36457   Acc: 524/625 (83.840%)\n",
            "Eval:  Avg_Loss: 0.59517   Acc: 169/209 (80.861%)\n",
            "Train Epoch: 166   Avg_Loss: 0.35780   Acc: 522/625 (83.520%)\n",
            "Eval:  Avg_Loss: 0.59536   Acc: 167/209 (79.904%)\n",
            "Train Epoch: 167   Avg_Loss: 0.36096   Acc: 526/625 (84.160%)\n",
            "Eval:  Avg_Loss: 0.60947   Acc: 166/209 (79.426%)\n",
            "Train Epoch: 168   Avg_Loss: 0.35641   Acc: 528/625 (84.480%)\n",
            "Eval:  Avg_Loss: 0.61768   Acc: 170/209 (81.340%)\n",
            "Train Epoch: 169   Avg_Loss: 0.36251   Acc: 523/625 (83.680%)\n",
            "Eval:  Avg_Loss: 0.60014   Acc: 167/209 (79.904%)\n",
            "Train Epoch: 170   Avg_Loss: 0.36212   Acc: 527/625 (84.320%)\n",
            "Eval:  Avg_Loss: 0.60772   Acc: 169/209 (80.861%)\n",
            "Train Epoch: 171   Avg_Loss: 0.35608   Acc: 532/625 (85.120%)\n",
            "Eval:  Avg_Loss: 0.60450   Acc: 169/209 (80.861%)\n",
            "Train Epoch: 172   Avg_Loss: 0.35380   Acc: 532/625 (85.120%)\n",
            "Eval:  Avg_Loss: 0.60896   Acc: 169/209 (80.861%)\n",
            "Train Epoch: 173   Avg_Loss: 0.36016   Acc: 524/625 (83.840%)\n",
            "Eval:  Avg_Loss: 0.62593   Acc: 169/209 (80.861%)\n",
            "Train Epoch: 174   Avg_Loss: 0.35613   Acc: 528/625 (84.480%)\n",
            "Eval:  Avg_Loss: 0.61452   Acc: 168/209 (80.383%)\n",
            "Train Epoch: 175   Avg_Loss: 0.35951   Acc: 526/625 (84.160%)\n",
            "Eval:  Avg_Loss: 0.63668   Acc: 166/209 (79.426%)\n",
            "Train Epoch: 176   Avg_Loss: 0.37684   Acc: 509/625 (81.440%)\n",
            "Eval:  Avg_Loss: 0.61889   Acc: 167/209 (79.904%)\n",
            "Train Epoch: 177   Avg_Loss: 0.36517   Acc: 524/625 (83.840%)\n",
            "Eval:  Avg_Loss: 0.62542   Acc: 167/209 (79.904%)\n",
            "Train Epoch: 178   Avg_Loss: 0.35424   Acc: 529/625 (84.640%)\n",
            "Eval:  Avg_Loss: 0.59715   Acc: 167/209 (79.904%)\n",
            "Train Epoch: 179   Avg_Loss: 0.35112   Acc: 531/625 (84.960%)\n",
            "Eval:  Avg_Loss: 0.62278   Acc: 170/209 (81.340%)\n",
            "Train Epoch: 180   Avg_Loss: 0.35200   Acc: 524/625 (83.840%)\n",
            "Eval:  Avg_Loss: 0.59436   Acc: 167/209 (79.904%)\n",
            "Train Epoch: 181   Avg_Loss: 0.36002   Acc: 528/625 (84.480%)\n",
            "Eval:  Avg_Loss: 0.59809   Acc: 164/209 (78.469%)\n",
            "Train Epoch: 182   Avg_Loss: 0.36289   Acc: 523/625 (83.680%)\n",
            "Eval:  Avg_Loss: 0.58937   Acc: 166/209 (79.426%)\n",
            "Train Epoch: 183   Avg_Loss: 0.35571   Acc: 521/625 (83.360%)\n",
            "Eval:  Avg_Loss: 0.60816   Acc: 169/209 (80.861%)\n",
            "Train Epoch: 184   Avg_Loss: 0.35333   Acc: 535/625 (85.600%)\n",
            "Eval:  Avg_Loss: 0.59561   Acc: 169/209 (80.861%)\n",
            "Train Epoch: 185   Avg_Loss: 0.35458   Acc: 520/625 (83.200%)\n",
            "Eval:  Avg_Loss: 0.59300   Acc: 168/209 (80.383%)\n",
            "Train Epoch: 186   Avg_Loss: 0.35033   Acc: 531/625 (84.960%)\n",
            "Eval:  Avg_Loss: 0.60366   Acc: 167/209 (79.904%)\n",
            "Train Epoch: 187   Avg_Loss: 0.35393   Acc: 526/625 (84.160%)\n",
            "Eval:  Avg_Loss: 0.55982   Acc: 165/209 (78.947%)\n",
            "Train Epoch: 188   Avg_Loss: 0.35341   Acc: 530/625 (84.800%)\n",
            "Eval:  Avg_Loss: 0.58753   Acc: 166/209 (79.426%)\n",
            "Train Epoch: 189   Avg_Loss: 0.34838   Acc: 529/625 (84.640%)\n",
            "Eval:  Avg_Loss: 0.58573   Acc: 170/209 (81.340%)\n",
            "Train Epoch: 190   Avg_Loss: 0.35059   Acc: 532/625 (85.120%)\n",
            "Eval:  Avg_Loss: 0.59138   Acc: 168/209 (80.383%)\n",
            "Train Epoch: 191   Avg_Loss: 0.35516   Acc: 527/625 (84.320%)\n",
            "Eval:  Avg_Loss: 0.56706   Acc: 170/209 (81.340%)\n",
            "Train Epoch: 192   Avg_Loss: 0.35072   Acc: 526/625 (84.160%)\n",
            "Eval:  Avg_Loss: 0.57513   Acc: 170/209 (81.340%)\n",
            "Train Epoch: 193   Avg_Loss: 0.34925   Acc: 532/625 (85.120%)\n",
            "Eval:  Avg_Loss: 0.58946   Acc: 165/209 (78.947%)\n",
            "Train Epoch: 194   Avg_Loss: 0.35330   Acc: 531/625 (84.960%)\n",
            "Eval:  Avg_Loss: 0.57370   Acc: 166/209 (79.426%)\n",
            "Train Epoch: 195   Avg_Loss: 0.36728   Acc: 527/625 (84.320%)\n",
            "Eval:  Avg_Loss: 0.57346   Acc: 169/209 (80.861%)\n",
            "Train Epoch: 196   Avg_Loss: 0.36395   Acc: 531/625 (84.960%)\n",
            "Eval:  Avg_Loss: 0.60287   Acc: 169/209 (80.861%)\n",
            "Train Epoch: 197   Avg_Loss: 0.36077   Acc: 526/625 (84.160%)\n",
            "Eval:  Avg_Loss: 0.56235   Acc: 168/209 (80.383%)\n",
            "Train Epoch: 198   Avg_Loss: 0.39852   Acc: 517/625 (82.720%)\n",
            "Eval:  Avg_Loss: 0.66387   Acc: 165/209 (78.947%)\n",
            "Train Epoch: 199   Avg_Loss: 0.35891   Acc: 521/625 (83.360%)\n",
            "Eval:  Avg_Loss: 0.58412   Acc: 169/209 (80.861%)\n",
            "Train Epoch: 200   Avg_Loss: 0.35215   Acc: 527/625 (84.320%)\n",
            "Eval:  Avg_Loss: 0.59707   Acc: 164/209 (78.469%)\n",
            "\n",
            "\n",
            "\n",
            "Optimization ended.\n",
            "\n"
          ],
          "name": "stdout"
        }
      ]
    },
    {
      "cell_type": "markdown",
      "metadata": {
        "colab_type": "text",
        "id": "86OZRLrjavmd"
      },
      "source": [
        "## Interpreting the output of the neural network"
      ]
    },
    {
      "cell_type": "code",
      "metadata": {
        "colab_type": "code",
        "id": "mklvQruYavme",
        "outputId": "b65aabc7-da89-4847-912f-5abcb37329c9",
        "colab": {
          "base_uri": "https://localhost:8080/",
          "height": 185
        }
      },
      "source": [
        "# Activate the evaluation mode\n",
        "neural_net = neural_net.eval()\n",
        "\n",
        "# Select the first 10 data points of the validation set\n",
        "data, target = val_dataset[0:10]\n",
        "data = data.to(device)\n",
        "\n",
        "# Executing the neural network\n",
        "output = neural_net(data)   # equivalent to neural_net.forward(data)\n",
        "\n",
        "# Transform the output into a probability distribution with a softmax function\n",
        "output_proba = F.softmax(output, dim=1)\n",
        "\n",
        "# Print the probability\n",
        "print(output_proba)"
      ],
      "execution_count": 19,
      "outputs": [
        {
          "output_type": "stream",
          "text": [
            "tensor([[0.9302, 0.0698],\n",
            "        [0.5484, 0.4516],\n",
            "        [0.4975, 0.5025],\n",
            "        [0.5397, 0.4603],\n",
            "        [0.7329, 0.2671],\n",
            "        [0.8742, 0.1258],\n",
            "        [0.8404, 0.1596],\n",
            "        [0.7983, 0.2017],\n",
            "        [0.0110, 0.9890],\n",
            "        [0.0010, 0.9990]], device='cuda:0', grad_fn=<SoftmaxBackward>)\n"
          ],
          "name": "stdout"
        }
      ]
    },
    {
      "cell_type": "code",
      "metadata": {
        "colab_type": "code",
        "id": "RvIEqKt0qjeT",
        "outputId": "c86a78cd-5f01-4b5a-8f1a-175260710224",
        "colab": {
          "base_uri": "https://localhost:8080/",
          "height": 84
        }
      },
      "source": [
        "# For each example, retrieve the class with the highest probability.\n",
        "_, prediction = torch.max(output_proba, dim=1)\n",
        "\n",
        "print(\"Model predictions\")\n",
        "print(prediction)\n",
        "\n",
        "print(\"Targets\")\n",
        "print(target)"
      ],
      "execution_count": 20,
      "outputs": [
        {
          "output_type": "stream",
          "text": [
            "Model predictions\n",
            "tensor([0, 0, 1, 0, 0, 0, 0, 0, 1, 1], device='cuda:0')\n",
            "Targets\n",
            "tensor([0, 0, 0, 0, 0, 0, 0, 1, 1, 1])\n"
          ],
          "name": "stdout"
        }
      ]
    },
    {
      "cell_type": "markdown",
      "metadata": {
        "colab_type": "text",
        "id": "V11J3Jihavmy"
      },
      "source": [
        "## Visualizing of the learning curve"
      ]
    },
    {
      "cell_type": "markdown",
      "metadata": {
        "colab_type": "text",
        "id": "j9_9C_tXavmz"
      },
      "source": [
        "The visualization of the learning curve allows to detect possible problems that may have occurred during learning, for example, overfitting."
      ]
    },
    {
      "cell_type": "code",
      "metadata": {
        "colab_type": "code",
        "id": "iNcbpl0tavm0",
        "outputId": "5648fef6-6df4-43c1-c2e2-159b532dee1e",
        "colab": {
          "base_uri": "https://localhost:8080/",
          "height": 279
        }
      },
      "source": [
        "import matplotlib.pyplot as plt\n",
        "%matplotlib inline\n",
        "\n",
        "x = list(range(len(train_losses)))\n",
        "\n",
        "ax = plt.subplot(111)\n",
        "plt.plot(x, train_losses, 'r', label=\"Train\")\n",
        "plt.plot(x, val_losses, 'g', label=\"Validation\")\n",
        "plt.xlabel('epoch')\n",
        "plt.ylabel('Cross-entropy loss')\n",
        "plt.grid()\n",
        "leg = plt.legend(loc='best', ncol=2, mode=\"expand\", shadow=False, fancybox=False)\n",
        "leg.get_frame().set_alpha(0.99)"
      ],
      "execution_count": 21,
      "outputs": [
        {
          "output_type": "display_data",
          "data": {
            "image/png": "[encoded data removed]",
            "text/plain": [
              "<Figure size 432x288 with 1 Axes>"
            ]
          },
          "metadata": {
            "tags": [],
            "needs_background": "light"
          }
        }
      ]
    },
    {
      "cell_type": "code",
      "metadata": {
        "colab_type": "code",
        "id": "g-VGQ2pMavm4",
        "outputId": "30981ad4-52e0-41e7-c689-bb234d126450",
        "colab": {
          "base_uri": "https://localhost:8080/",
          "height": 279
        }
      },
      "source": [
        "x = list(range(len(train_accuracies)))\n",
        "\n",
        "ax = plt.subplot(111)\n",
        "plt.plot(x, train_accuracies, 'r', label=\"Train\")\n",
        "plt.plot(x, val_accuracies, 'g', label=\"Validation\")\n",
        "plt.xlabel('epoch')\n",
        "plt.ylabel('Accuracy')\n",
        "plt.grid()\n",
        "leg = plt.legend(loc='best', ncol=2, mode=\"expand\", shadow=False, fancybox=False)\n",
        "leg.get_frame().set_alpha(0.99)"
      ],
      "execution_count": 22,
      "outputs": [
        {
          "output_type": "display_data",
          "data": {
            "image/png": "[encoded data removed]",
            "text/plain": [
              "<Figure size 432x288 with 1 Axes>"
            ]
          },
          "metadata": {
            "tags": [],
            "needs_background": "light"
          }
        }
      ]
    },
    {
      "cell_type": "markdown",
      "metadata": {
        "colab_type": "text",
        "id": "8oktkpkuqjet"
      },
      "source": [
        "**Questions**:\n",
        "\n",
        "*   What do you observe in the previous graphs?\n",
        "*   At which epoch is it interesting to retrieve the model parameters for inference?\n",
        "\n"
      ]
    },
    {
      "cell_type": "markdown",
      "metadata": {
        "id": "qwhRt39yzug-",
        "colab_type": "text"
      },
      "source": [
        "*   I observe that somewhere after 20th epoch loss in validation started growing. That is the beginning of overfitting. The accuracy exponentially exploded in the beginning and after that the result barely improved.\n",
        "*   ~20th\n",
        "\n",
        "\n"
      ]
    },
    {
      "cell_type": "markdown",
      "metadata": {
        "colab_type": "text",
        "id": "XK_eUsq3avm8"
      },
      "source": [
        "# How to evaluate a model on the test set?"
      ]
    },
    {
      "cell_type": "markdown",
      "metadata": {
        "colab_type": "text",
        "id": "4UREO5elavm8"
      },
      "source": [
        "We can finally evaluate our model on our test dataset."
      ]
    },
    {
      "cell_type": "code",
      "metadata": {
        "colab_type": "code",
        "id": "pPWvDM-qavm8",
        "outputId": "ba12d0a3-7521-4259-8b8c-dd0db591232c",
        "colab": {
          "base_uri": "https://localhost:8080/",
          "height": 34
        }
      },
      "source": [
        "test_loss, test_acc = evaluate(neural_net, test_loader, device)"
      ],
      "execution_count": 23,
      "outputs": [
        {
          "output_type": "stream",
          "text": [
            "Eval:  Avg_Loss: 0.50465   Acc: 169/209 (80.861%)\n"
          ],
          "name": "stdout"
        }
      ]
    },
    {
      "cell_type": "markdown",
      "metadata": {
        "colab_type": "text",
        "id": "EvP_-KUwqjez"
      },
      "source": [
        "**Questions**:\n",
        "\n",
        "a) Compare validation and test metrics. <br/>"
      ]
    },
    {
      "cell_type": "markdown",
      "metadata": {
        "id": "Ov4CKUFh5tun",
        "colab_type": "text"
      },
      "source": [
        "The accuracy in evaluation is close to what we observed during the training but still with some discrepancy. The amount of the could affect if."
      ]
    },
    {
      "cell_type": "code",
      "metadata": {
        "id": "SfykotIrJV0Y",
        "colab_type": "code",
        "colab": {}
      },
      "source": [
        ""
      ],
      "execution_count": 0,
      "outputs": []
    }
  ]
}